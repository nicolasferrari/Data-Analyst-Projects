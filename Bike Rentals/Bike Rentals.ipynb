{
 "cells": [
  {
   "cell_type": "code",
   "execution_count": 3,
   "metadata": {
    "collapsed": false
   },
   "outputs": [
    {
     "data": {
      "text/plain": [
       "(17379, 17)"
      ]
     },
     "execution_count": 3,
     "metadata": {},
     "output_type": "execute_result"
    }
   ],
   "source": [
    "import pandas as pd \n",
    "bike_rentals = pd.read_csv(\"C:/Users/Nicolas/Downloads/bike_rental_hour.csv\")\n",
    "bike_rentals.head()\n",
    "bike_rentals.shape "
   ]
  },
  {
   "cell_type": "code",
   "execution_count": 4,
   "metadata": {
    "collapsed": false
   },
   "outputs": [
    {
     "data": {
      "text/plain": [
       "(array([ 6972.,  3705.,  2659.,  1660.,   987.,   663.,   369.,   188.,\n",
       "          139.,    37.]),\n",
       " array([   1. ,   98.6,  196.2,  293.8,  391.4,  489. ,  586.6,  684.2,\n",
       "         781.8,  879.4,  977. ]),\n",
       " <a list of 10 Patch objects>)"
      ]
     },
     "execution_count": 4,
     "metadata": {},
     "output_type": "execute_result"
    },
    {
     "data": {
      "image/png": "[encoded data removed]",
      "text/plain": [
       "<matplotlib.figure.Figure at 0x1a03af949b0>"
      ]
     },
     "metadata": {},
     "output_type": "display_data"
    }
   ],
   "source": [
    "import matplotlib.pyplot as plt\n",
    "%matplotlib inline\n",
    "plt.hist(bike_rentals[\"cnt\"]) # Take a look at the distribution of total rentals"
   ]
  },
  {
   "cell_type": "code",
   "execution_count": 5,
   "metadata": {
    "collapsed": false
   },
   "outputs": [
    {
     "data": {
      "text/plain": [
       "instant       0.278379\n",
       "season        0.178056\n",
       "yr            0.250495\n",
       "mnth          0.120638\n",
       "hr            0.394071\n",
       "holiday      -0.030927\n",
       "weekday       0.026900\n",
       "workingday    0.030284\n",
       "weathersit   -0.142426\n",
       "temp          0.404772\n",
       "atemp         0.400929\n",
       "hum          -0.322911\n",
       "windspeed     0.093234\n",
       "casual        0.694564\n",
       "registered    0.972151\n",
       "cnt           1.000000\n",
       "Name: cnt, dtype: float64"
      ]
     },
     "execution_count": 5,
     "metadata": {},
     "output_type": "execute_result"
    }
   ],
   "source": [
    "bike_rentals_corr = bike_rentals.corr()\n",
    "bike_rentals_corr[\"cnt\"]"
   ]
  },
  {
   "cell_type": "code",
   "execution_count": 6,
   "metadata": {
    "collapsed": false
   },
   "outputs": [],
   "source": [
    "# Features transformation. Create the time_label column of the bike_rentals dataframe where each label correspond to a certain \n",
    "# part of the day such as morning, afternoon, evening, night\n",
    "def assign_label(hr):\n",
    "    if (hr > 6) & (hr <=12):\n",
    "        return 1\n",
    "    elif (hr > 12) & (hr <=18):\n",
    "        return 2\n",
    "    elif (hr > 18) & (hr <=24):\n",
    "        return 3 \n",
    "    elif (hr >= 0) & (hr <=6):\n",
    "        return 4\n",
    "bike_rentals[\"time_label\"] = bike_rentals[\"hr\"].apply(assign_label)"
   ]
  },
  {
   "cell_type": "markdown",
   "metadata": {},
   "source": [
    "In order to evaluate the performance of a machine learning algorithm, I will chose the Root Square Mean Error. I choose this metric because the model will deal with a regression problem and the RSME metric, work well with this problems because show a value that resume the differences between the true value of the target variable(cnt) and the predictions of the model.  "
   ]
  },
  {
   "cell_type": "code",
   "execution_count": 7,
   "metadata": {
    "collapsed": false
   },
   "outputs": [],
   "source": [
    "# Select 80% percent of the rows in bike_rentals to be part of the training set\n",
    "train = bike_rentals.sample(frac= 0.8)\n",
    "test = bike_rentals.loc[~bike_rentals.index.isin(train.index)]"
   ]
  },
  {
   "cell_type": "code",
   "execution_count": 8,
   "metadata": {
    "collapsed": false
   },
   "outputs": [
    {
     "data": {
      "text/html": [
       "<div>\n",
       "<table border=\"1\" class=\"dataframe\">\n",
       "  <thead>\n",
       "    <tr style=\"text-align: right;\">\n",
       "      <th></th>\n",
       "      <th>instant</th>\n",
       "      <th>dteday</th>\n",
       "      <th>season</th>\n",
       "      <th>yr</th>\n",
       "      <th>mnth</th>\n",
       "      <th>hr</th>\n",
       "      <th>holiday</th>\n",
       "      <th>weekday</th>\n",
       "      <th>workingday</th>\n",
       "      <th>weathersit</th>\n",
       "      <th>temp</th>\n",
       "      <th>atemp</th>\n",
       "      <th>hum</th>\n",
       "      <th>windspeed</th>\n",
       "      <th>casual</th>\n",
       "      <th>registered</th>\n",
       "      <th>cnt</th>\n",
       "      <th>time_label</th>\n",
       "    </tr>\n",
       "  </thead>\n",
       "  <tbody>\n",
       "    <tr>\n",
       "      <th>3574</th>\n",
       "      <td>3575</td>\n",
       "      <td>2011-06-02</td>\n",
       "      <td>2</td>\n",
       "      <td>0</td>\n",
       "      <td>6</td>\n",
       "      <td>20</td>\n",
       "      <td>0</td>\n",
       "      <td>4</td>\n",
       "      <td>1</td>\n",
       "      <td>1</td>\n",
       "      <td>0.70</td>\n",
       "      <td>0.6364</td>\n",
       "      <td>0.24</td>\n",
       "      <td>0.1940</td>\n",
       "      <td>51</td>\n",
       "      <td>286</td>\n",
       "      <td>337</td>\n",
       "      <td>3</td>\n",
       "    </tr>\n",
       "    <tr>\n",
       "      <th>4713</th>\n",
       "      <td>4714</td>\n",
       "      <td>2011-07-20</td>\n",
       "      <td>3</td>\n",
       "      <td>0</td>\n",
       "      <td>7</td>\n",
       "      <td>7</td>\n",
       "      <td>0</td>\n",
       "      <td>3</td>\n",
       "      <td>1</td>\n",
       "      <td>2</td>\n",
       "      <td>0.70</td>\n",
       "      <td>0.6667</td>\n",
       "      <td>0.84</td>\n",
       "      <td>0.1045</td>\n",
       "      <td>27</td>\n",
       "      <td>276</td>\n",
       "      <td>303</td>\n",
       "      <td>1</td>\n",
       "    </tr>\n",
       "    <tr>\n",
       "      <th>13537</th>\n",
       "      <td>13538</td>\n",
       "      <td>2012-07-23</td>\n",
       "      <td>3</td>\n",
       "      <td>1</td>\n",
       "      <td>7</td>\n",
       "      <td>6</td>\n",
       "      <td>0</td>\n",
       "      <td>1</td>\n",
       "      <td>1</td>\n",
       "      <td>2</td>\n",
       "      <td>0.68</td>\n",
       "      <td>0.6364</td>\n",
       "      <td>0.89</td>\n",
       "      <td>0.0896</td>\n",
       "      <td>9</td>\n",
       "      <td>148</td>\n",
       "      <td>157</td>\n",
       "      <td>4</td>\n",
       "    </tr>\n",
       "    <tr>\n",
       "      <th>11968</th>\n",
       "      <td>11969</td>\n",
       "      <td>2012-05-18</td>\n",
       "      <td>2</td>\n",
       "      <td>1</td>\n",
       "      <td>5</td>\n",
       "      <td>21</td>\n",
       "      <td>0</td>\n",
       "      <td>5</td>\n",
       "      <td>1</td>\n",
       "      <td>1</td>\n",
       "      <td>0.60</td>\n",
       "      <td>0.6212</td>\n",
       "      <td>0.40</td>\n",
       "      <td>0.0000</td>\n",
       "      <td>49</td>\n",
       "      <td>209</td>\n",
       "      <td>258</td>\n",
       "      <td>3</td>\n",
       "    </tr>\n",
       "    <tr>\n",
       "      <th>13011</th>\n",
       "      <td>13012</td>\n",
       "      <td>2012-07-01</td>\n",
       "      <td>3</td>\n",
       "      <td>1</td>\n",
       "      <td>7</td>\n",
       "      <td>8</td>\n",
       "      <td>0</td>\n",
       "      <td>0</td>\n",
       "      <td>0</td>\n",
       "      <td>1</td>\n",
       "      <td>0.78</td>\n",
       "      <td>0.7424</td>\n",
       "      <td>0.62</td>\n",
       "      <td>0.1045</td>\n",
       "      <td>36</td>\n",
       "      <td>106</td>\n",
       "      <td>142</td>\n",
       "      <td>1</td>\n",
       "    </tr>\n",
       "  </tbody>\n",
       "</table>\n",
       "</div>"
      ],
      "text/plain": [
       "       instant      dteday  season  yr  mnth  hr  holiday  weekday  \\\n",
       "3574      3575  2011-06-02       2   0     6  20        0        4   \n",
       "4713      4714  2011-07-20       3   0     7   7        0        3   \n",
       "13537    13538  2012-07-23       3   1     7   6        0        1   \n",
       "11968    11969  2012-05-18       2   1     5  21        0        5   \n",
       "13011    13012  2012-07-01       3   1     7   8        0        0   \n",
       "\n",
       "       workingday  weathersit  temp   atemp   hum  windspeed  casual  \\\n",
       "3574            1           1  0.70  0.6364  0.24     0.1940      51   \n",
       "4713            1           2  0.70  0.6667  0.84     0.1045      27   \n",
       "13537           1           2  0.68  0.6364  0.89     0.0896       9   \n",
       "11968           1           1  0.60  0.6212  0.40     0.0000      49   \n",
       "13011           0           1  0.78  0.7424  0.62     0.1045      36   \n",
       "\n",
       "       registered  cnt  time_label  \n",
       "3574          286  337           3  \n",
       "4713          276  303           1  \n",
       "13537         148  157           4  \n",
       "11968         209  258           3  \n",
       "13011         106  142           1  "
      ]
     },
     "execution_count": 8,
     "metadata": {},
     "output_type": "execute_result"
    }
   ],
   "source": [
    "train.head()"
   ]
  },
  {
   "cell_type": "code",
   "execution_count": 9,
   "metadata": {
    "collapsed": false
   },
   "outputs": [
    {
     "data": {
      "text/html": [
       "<div>\n",
       "<table border=\"1\" class=\"dataframe\">\n",
       "  <thead>\n",
       "    <tr style=\"text-align: right;\">\n",
       "      <th></th>\n",
       "      <th>instant</th>\n",
       "      <th>dteday</th>\n",
       "      <th>season</th>\n",
       "      <th>yr</th>\n",
       "      <th>mnth</th>\n",
       "      <th>hr</th>\n",
       "      <th>holiday</th>\n",
       "      <th>weekday</th>\n",
       "      <th>workingday</th>\n",
       "      <th>weathersit</th>\n",
       "      <th>temp</th>\n",
       "      <th>atemp</th>\n",
       "      <th>hum</th>\n",
       "      <th>windspeed</th>\n",
       "      <th>casual</th>\n",
       "      <th>registered</th>\n",
       "      <th>cnt</th>\n",
       "      <th>time_label</th>\n",
       "    </tr>\n",
       "  </thead>\n",
       "  <tbody>\n",
       "    <tr>\n",
       "      <th>1</th>\n",
       "      <td>2</td>\n",
       "      <td>2011-01-01</td>\n",
       "      <td>1</td>\n",
       "      <td>0</td>\n",
       "      <td>1</td>\n",
       "      <td>1</td>\n",
       "      <td>0</td>\n",
       "      <td>6</td>\n",
       "      <td>0</td>\n",
       "      <td>1</td>\n",
       "      <td>0.22</td>\n",
       "      <td>0.2727</td>\n",
       "      <td>0.80</td>\n",
       "      <td>0.0000</td>\n",
       "      <td>8</td>\n",
       "      <td>32</td>\n",
       "      <td>40</td>\n",
       "      <td>4</td>\n",
       "    </tr>\n",
       "    <tr>\n",
       "      <th>5</th>\n",
       "      <td>6</td>\n",
       "      <td>2011-01-01</td>\n",
       "      <td>1</td>\n",
       "      <td>0</td>\n",
       "      <td>1</td>\n",
       "      <td>5</td>\n",
       "      <td>0</td>\n",
       "      <td>6</td>\n",
       "      <td>0</td>\n",
       "      <td>2</td>\n",
       "      <td>0.24</td>\n",
       "      <td>0.2576</td>\n",
       "      <td>0.75</td>\n",
       "      <td>0.0896</td>\n",
       "      <td>0</td>\n",
       "      <td>1</td>\n",
       "      <td>1</td>\n",
       "      <td>4</td>\n",
       "    </tr>\n",
       "    <tr>\n",
       "      <th>22</th>\n",
       "      <td>23</td>\n",
       "      <td>2011-01-01</td>\n",
       "      <td>1</td>\n",
       "      <td>0</td>\n",
       "      <td>1</td>\n",
       "      <td>22</td>\n",
       "      <td>0</td>\n",
       "      <td>6</td>\n",
       "      <td>0</td>\n",
       "      <td>2</td>\n",
       "      <td>0.40</td>\n",
       "      <td>0.4091</td>\n",
       "      <td>0.94</td>\n",
       "      <td>0.2239</td>\n",
       "      <td>11</td>\n",
       "      <td>17</td>\n",
       "      <td>28</td>\n",
       "      <td>3</td>\n",
       "    </tr>\n",
       "    <tr>\n",
       "      <th>25</th>\n",
       "      <td>26</td>\n",
       "      <td>2011-01-02</td>\n",
       "      <td>1</td>\n",
       "      <td>0</td>\n",
       "      <td>1</td>\n",
       "      <td>1</td>\n",
       "      <td>0</td>\n",
       "      <td>0</td>\n",
       "      <td>0</td>\n",
       "      <td>2</td>\n",
       "      <td>0.44</td>\n",
       "      <td>0.4394</td>\n",
       "      <td>0.94</td>\n",
       "      <td>0.2537</td>\n",
       "      <td>1</td>\n",
       "      <td>16</td>\n",
       "      <td>17</td>\n",
       "      <td>4</td>\n",
       "    </tr>\n",
       "    <tr>\n",
       "      <th>27</th>\n",
       "      <td>28</td>\n",
       "      <td>2011-01-02</td>\n",
       "      <td>1</td>\n",
       "      <td>0</td>\n",
       "      <td>1</td>\n",
       "      <td>3</td>\n",
       "      <td>0</td>\n",
       "      <td>0</td>\n",
       "      <td>0</td>\n",
       "      <td>2</td>\n",
       "      <td>0.46</td>\n",
       "      <td>0.4545</td>\n",
       "      <td>0.94</td>\n",
       "      <td>0.1940</td>\n",
       "      <td>2</td>\n",
       "      <td>4</td>\n",
       "      <td>6</td>\n",
       "      <td>4</td>\n",
       "    </tr>\n",
       "  </tbody>\n",
       "</table>\n",
       "</div>"
      ],
      "text/plain": [
       "    instant      dteday  season  yr  mnth  hr  holiday  weekday  workingday  \\\n",
       "1         2  2011-01-01       1   0     1   1        0        6           0   \n",
       "5         6  2011-01-01       1   0     1   5        0        6           0   \n",
       "22       23  2011-01-01       1   0     1  22        0        6           0   \n",
       "25       26  2011-01-02       1   0     1   1        0        0           0   \n",
       "27       28  2011-01-02       1   0     1   3        0        0           0   \n",
       "\n",
       "    weathersit  temp   atemp   hum  windspeed  casual  registered  cnt  \\\n",
       "1            1  0.22  0.2727  0.80     0.0000       8          32   40   \n",
       "5            2  0.24  0.2576  0.75     0.0896       0           1    1   \n",
       "22           2  0.40  0.4091  0.94     0.2239      11          17   28   \n",
       "25           2  0.44  0.4394  0.94     0.2537       1          16   17   \n",
       "27           2  0.46  0.4545  0.94     0.1940       2           4    6   \n",
       "\n",
       "    time_label  \n",
       "1            4  \n",
       "5            4  \n",
       "22           3  \n",
       "25           4  \n",
       "27           4  "
      ]
     },
     "execution_count": 9,
     "metadata": {},
     "output_type": "execute_result"
    }
   ],
   "source": [
    "test.head()"
   ]
  },
  {
   "cell_type": "code",
   "execution_count": 10,
   "metadata": {
    "collapsed": false
   },
   "outputs": [
    {
     "name": "stdout",
     "output_type": "stream",
     "text": [
      "[ -35.80183871  -35.87391571   40.00390974 ...,  227.06564549  -22.713829\n",
      "  164.16647641]\n",
      "139.795175782\n"
     ]
    }
   ],
   "source": [
    "# Linear Regression\n",
    "import sklearn\n",
    "from sklearn.linear_model import LinearRegression\n",
    "from sklearn.metrics import mean_squared_error\n",
    "\n",
    "features = [\"temp\",\"atemp\",\"hum\",\"season\",\"time_label\",\"weathersit\"]\n",
    "lr = LinearRegression()\n",
    "lr.fit(train[features],train[\"cnt\"])\n",
    "predictions = lr.predict(test[features])\n",
    "\n",
    "error = mean_squared_error(test[\"cnt\"],predictions)\n",
    "root_square_mean_error = error ** (1/2)\n",
    "print(predictions)\n",
    "print(root_square_mean_error)\n",
    "\n",
    "\n",
    "\n"
   ]
  },
  {
   "cell_type": "markdown",
   "metadata": {},
   "source": [
    "The linear regression model, don´t seem to yield good predictions about the number of bike rentals per day. First some predictions values are negatives which is not coeherent with the target variable that must be always positive or 0. \n",
    "\n",
    "Secondly, the root mean squared error is a bit high which involves that the this model is far for predicte an accurate value of the number of bicycles rented per day. "
   ]
  },
  {
   "cell_type": "code",
   "execution_count": 11,
   "metadata": {
    "collapsed": false
   },
   "outputs": [
    {
     "name": "stdout",
     "output_type": "stream",
     "text": [
      "[  12.66666667   49.           57.33333333 ...,  102.5           2.33333333\n",
      "   55.        ]\n",
      "144.488238871\n"
     ]
    }
   ],
   "source": [
    "# Applyng Decision Trees to generate a model and compare it with linear regression\n",
    "from sklearn.tree import DecisionTreeRegressor\n",
    "model = DecisionTreeRegressor()\n",
    "model.fit(train[features],train[\"cnt\"])\n",
    "predictions = model.predict(test[features])\n",
    "\n",
    "error = mean_squared_error(test[\"cnt\"],predictions)\n",
    "root_squared_mean_error = error ** (1/2)\n",
    "print(predictions)\n",
    "print(root_squared_mean_error)"
   ]
  },
  {
   "cell_type": "markdown",
   "metadata": {},
   "source": [
    "The predictions list that yield the Decision Tree Regressor values  have not negative values of the target variables. However the root squared mean error is higher than in the linear regression model.\n",
    "\n",
    "When I tweak the min_sample_leaf parameter of the Decision Tree Regressor, and increment up to 20 the error of the model decrease and make a minimun. After the value of 20 of this parameter, the error metric start to increse again."
   ]
  },
  {
   "cell_type": "code",
   "execution_count": 12,
   "metadata": {
    "collapsed": false
   },
   "outputs": [
    {
     "name": "stdout",
     "output_type": "stream",
     "text": [
      "[  10.37428571   16.3452381    98.99047619 ...,  124.525        13.9          71.6       ]\n",
      "133.894768642\n"
     ]
    }
   ],
   "source": [
    "from sklearn.ensemble import RandomForestRegressor\n",
    "rf = RandomForestRegressor()\n",
    "rf.fit(train[features],train[\"cnt\"])\n",
    "predictions = rf.predict(test[features])\n",
    "\n",
    "error = mean_squared_error(test[\"cnt\"],predictions)\n",
    "root_squared_mean_error = error ** (1/2)\n",
    "print(predictions)\n",
    "print(root_squared_mean_error)\n"
   ]
  },
  {
   "cell_type": "markdown",
   "metadata": {},
   "source": [
    "The root squared mean error for the Random Forest Regressor with the defaults parameters is the lowest of the three models that I have been generate. Respect the predictions, the first values are all positive in contrast to the linear regression model where have negative values in the predictions. \n",
    "\n",
    "This is in online with the power that have the Random Forests model and it superiority over the linear regression and decision trees. Random Forest tend to overfit much less than decision trees."
   ]
  },
  {
   "cell_type": "code",
   "execution_count": 13,
   "metadata": {
    "collapsed": false
   },
   "outputs": [
    {
     "data": {
      "text/html": [
       "<div>\n",
       "<table border=\"1\" class=\"dataframe\">\n",
       "  <thead>\n",
       "    <tr style=\"text-align: right;\">\n",
       "      <th></th>\n",
       "      <th>instant</th>\n",
       "      <th>dteday</th>\n",
       "      <th>season</th>\n",
       "      <th>yr</th>\n",
       "      <th>mnth</th>\n",
       "      <th>hr</th>\n",
       "      <th>holiday</th>\n",
       "      <th>weekday</th>\n",
       "      <th>workingday</th>\n",
       "      <th>weathersit</th>\n",
       "      <th>temp</th>\n",
       "      <th>atemp</th>\n",
       "      <th>hum</th>\n",
       "      <th>windspeed</th>\n",
       "      <th>casual</th>\n",
       "      <th>registered</th>\n",
       "      <th>cnt</th>\n",
       "      <th>time_label</th>\n",
       "      <th>weather</th>\n",
       "      <th>weather_index</th>\n",
       "    </tr>\n",
       "  </thead>\n",
       "  <tbody>\n",
       "    <tr>\n",
       "      <th>0</th>\n",
       "      <td>1</td>\n",
       "      <td>2011-01-01</td>\n",
       "      <td>1</td>\n",
       "      <td>0</td>\n",
       "      <td>1</td>\n",
       "      <td>0</td>\n",
       "      <td>0</td>\n",
       "      <td>6</td>\n",
       "      <td>0</td>\n",
       "      <td>1</td>\n",
       "      <td>0.24</td>\n",
       "      <td>0.2879</td>\n",
       "      <td>0.81</td>\n",
       "      <td>0.0</td>\n",
       "      <td>3</td>\n",
       "      <td>13</td>\n",
       "      <td>16</td>\n",
       "      <td>4</td>\n",
       "      <td>1.05</td>\n",
       "      <td>100.00</td>\n",
       "    </tr>\n",
       "    <tr>\n",
       "      <th>1</th>\n",
       "      <td>2</td>\n",
       "      <td>2011-01-01</td>\n",
       "      <td>1</td>\n",
       "      <td>0</td>\n",
       "      <td>1</td>\n",
       "      <td>1</td>\n",
       "      <td>0</td>\n",
       "      <td>6</td>\n",
       "      <td>0</td>\n",
       "      <td>1</td>\n",
       "      <td>0.22</td>\n",
       "      <td>0.2727</td>\n",
       "      <td>0.80</td>\n",
       "      <td>0.0</td>\n",
       "      <td>8</td>\n",
       "      <td>32</td>\n",
       "      <td>40</td>\n",
       "      <td>4</td>\n",
       "      <td>1.02</td>\n",
       "      <td>97.14</td>\n",
       "    </tr>\n",
       "    <tr>\n",
       "      <th>2</th>\n",
       "      <td>3</td>\n",
       "      <td>2011-01-01</td>\n",
       "      <td>1</td>\n",
       "      <td>0</td>\n",
       "      <td>1</td>\n",
       "      <td>2</td>\n",
       "      <td>0</td>\n",
       "      <td>6</td>\n",
       "      <td>0</td>\n",
       "      <td>1</td>\n",
       "      <td>0.22</td>\n",
       "      <td>0.2727</td>\n",
       "      <td>0.80</td>\n",
       "      <td>0.0</td>\n",
       "      <td>5</td>\n",
       "      <td>27</td>\n",
       "      <td>32</td>\n",
       "      <td>4</td>\n",
       "      <td>1.02</td>\n",
       "      <td>97.14</td>\n",
       "    </tr>\n",
       "    <tr>\n",
       "      <th>3</th>\n",
       "      <td>4</td>\n",
       "      <td>2011-01-01</td>\n",
       "      <td>1</td>\n",
       "      <td>0</td>\n",
       "      <td>1</td>\n",
       "      <td>3</td>\n",
       "      <td>0</td>\n",
       "      <td>6</td>\n",
       "      <td>0</td>\n",
       "      <td>1</td>\n",
       "      <td>0.24</td>\n",
       "      <td>0.2879</td>\n",
       "      <td>0.75</td>\n",
       "      <td>0.0</td>\n",
       "      <td>3</td>\n",
       "      <td>10</td>\n",
       "      <td>13</td>\n",
       "      <td>4</td>\n",
       "      <td>0.99</td>\n",
       "      <td>94.29</td>\n",
       "    </tr>\n",
       "    <tr>\n",
       "      <th>4</th>\n",
       "      <td>5</td>\n",
       "      <td>2011-01-01</td>\n",
       "      <td>1</td>\n",
       "      <td>0</td>\n",
       "      <td>1</td>\n",
       "      <td>4</td>\n",
       "      <td>0</td>\n",
       "      <td>6</td>\n",
       "      <td>0</td>\n",
       "      <td>1</td>\n",
       "      <td>0.24</td>\n",
       "      <td>0.2879</td>\n",
       "      <td>0.75</td>\n",
       "      <td>0.0</td>\n",
       "      <td>0</td>\n",
       "      <td>1</td>\n",
       "      <td>1</td>\n",
       "      <td>4</td>\n",
       "      <td>0.99</td>\n",
       "      <td>94.29</td>\n",
       "    </tr>\n",
       "  </tbody>\n",
       "</table>\n",
       "</div>"
      ],
      "text/plain": [
       "   instant      dteday  season  yr  mnth  hr  holiday  weekday  workingday  \\\n",
       "0        1  2011-01-01       1   0     1   0        0        6           0   \n",
       "1        2  2011-01-01       1   0     1   1        0        6           0   \n",
       "2        3  2011-01-01       1   0     1   2        0        6           0   \n",
       "3        4  2011-01-01       1   0     1   3        0        6           0   \n",
       "4        5  2011-01-01       1   0     1   4        0        6           0   \n",
       "\n",
       "   weathersit  temp   atemp   hum  windspeed  casual  registered  cnt  \\\n",
       "0           1  0.24  0.2879  0.81        0.0       3          13   16   \n",
       "1           1  0.22  0.2727  0.80        0.0       8          32   40   \n",
       "2           1  0.22  0.2727  0.80        0.0       5          27   32   \n",
       "3           1  0.24  0.2879  0.75        0.0       3          10   13   \n",
       "4           1  0.24  0.2879  0.75        0.0       0           1    1   \n",
       "\n",
       "   time_label  weather  weather_index  \n",
       "0           4     1.05         100.00  \n",
       "1           4     1.02          97.14  \n",
       "2           4     1.02          97.14  \n",
       "3           4     0.99          94.29  \n",
       "4           4     0.99          94.29  "
      ]
     },
     "execution_count": 13,
     "metadata": {},
     "output_type": "execute_result"
    }
   ],
   "source": [
    "# In this step, I will create additional features to include in the model. \n",
    "# The weather_index feature is an index that combine the temperature, humidity and wind speed\n",
    "# and with these variables I generate an index in base 100.\n",
    "\n",
    "bike_rentals[\"weather\"] = bike_rentals[\"temp\"] + bike_rentals[\"hum\"] + bike_rentals[\"windspeed\"]\n",
    "\n",
    "bike_rentals[\"weather_index\"] = round((bike_rentals[\"weather\"] / bike_rentals[\"weather\"][0]) * 100,2) \n",
    "\n",
    "bike_rentals.head()"
   ]
  },
  {
   "cell_type": "code",
   "execution_count": 14,
   "metadata": {
    "collapsed": false
   },
   "outputs": [],
   "source": [
    "# The variable cnt of the bike_rentals dataset, is the total number of bike rentals (casual + registered) in a single hour of a single day.\n",
    "# An interesting approach is to predict the amount of casual rented bicycles instead of the total rented bicycles\n",
    "# I will use the variable casual as the target variables, and select some features to predict it\n",
    "\n",
    "# Select 80% percent of the rows in bike_rentals to be part of the training set\n",
    "train = bike_rentals.sample(frac= 0.8)\n",
    "test = bike_rentals.loc[~bike_rentals.index.isin(train.index)]"
   ]
  },
  {
   "cell_type": "code",
   "execution_count": 15,
   "metadata": {
    "collapsed": false
   },
   "outputs": [
    {
     "data": {
      "text/plain": [
       "3    4496\n",
       "2    4409\n",
       "1    4242\n",
       "4    4232\n",
       "Name: season, dtype: int64"
      ]
     },
     "execution_count": 15,
     "metadata": {},
     "output_type": "execute_result"
    }
   ],
   "source": [
    "bike_rentals[\"season\"].value_counts()"
   ]
  },
  {
   "cell_type": "code",
   "execution_count": 16,
   "metadata": {
    "collapsed": false
   },
   "outputs": [
    {
     "name": "stdout",
     "output_type": "stream",
     "text": [
      "[  4.56666667   4.56666667  18.4        ...,   1.33333333  11.91666667\n",
      "   3.8       ]\n",
      "35.4590400514\n"
     ]
    }
   ],
   "source": [
    "# I will use the RandomForestRegressor to predict the casual bicycles rented in given hour\n",
    "features = [\"weather_index\",\"time_label\",\"workingday\",\"season\"]\n",
    "\n",
    "rf = RandomForestRegressor()\n",
    "rf.fit(train[features],train[\"casual\"])\n",
    "predictions = rf.predict(test[features])\n",
    "\n",
    "error = mean_squared_error(test[\"casual\"],predictions)\n",
    "root_squared_mean_error = error ** (1/2)\n",
    "print(predictions)\n",
    "print(root_squared_mean_error)"
   ]
  },
  {
   "cell_type": "markdown",
   "metadata": {
    "collapsed": false
   },
   "source": [
    "In this model, the root mean squared error is much less respect when we use the cnt variable. This is logical as the casual variable is included in the cnt variable and so their predictions will be more close to the true value, because has less dispersion. \n",
    "\n",
    "I conclude for the three model used in this project, that the Random Forest Regressor is the more suitable in predicting the number of bicycles rented in an hour for a given day, because yield the most accurate predictions in comparisson with the Linear Regression or Decision Tree Regressor models."
   ]
  },
  {
   "cell_type": "code",
   "execution_count": null,
   "metadata": {
    "collapsed": true
   },
   "outputs": [],
   "source": []
  }
 ],
 "metadata": {
  "kernelspec": {
   "display_name": "Python [default]",
   "language": "python",
   "name": "python3"
  }
 },
 "nbformat": 4,
 "nbformat_minor": 0
}
