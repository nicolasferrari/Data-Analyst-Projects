{
 "cells": [
  {
   "cell_type": "code",
   "execution_count": 1,
   "metadata": {
    "collapsed": false,
    "scrolled": false
   },
   "outputs": [
    {
     "data": {
      "text/html": [
       "<div>\n",
       "<table border=\"1\" class=\"dataframe\">\n",
       "  <thead>\n",
       "    <tr style=\"text-align: right;\">\n",
       "      <th></th>\n",
       "      <th>id</th>\n",
       "      <th>type</th>\n",
       "      <th>name</th>\n",
       "      <th>yearpublished</th>\n",
       "      <th>minplayers</th>\n",
       "      <th>maxplayers</th>\n",
       "      <th>playingtime</th>\n",
       "      <th>minplaytime</th>\n",
       "      <th>maxplaytime</th>\n",
       "      <th>minage</th>\n",
       "      <th>users_rated</th>\n",
       "      <th>average_rating</th>\n",
       "      <th>bayes_average_rating</th>\n",
       "      <th>total_owners</th>\n",
       "      <th>total_traders</th>\n",
       "      <th>total_wanters</th>\n",
       "      <th>total_wishers</th>\n",
       "      <th>total_comments</th>\n",
       "      <th>total_weights</th>\n",
       "      <th>average_weight</th>\n",
       "    </tr>\n",
       "  </thead>\n",
       "  <tbody>\n",
       "    <tr>\n",
       "      <th>0</th>\n",
       "      <td>12333</td>\n",
       "      <td>boardgame</td>\n",
       "      <td>Twilight Struggle</td>\n",
       "      <td>2005.0</td>\n",
       "      <td>2.0</td>\n",
       "      <td>2.0</td>\n",
       "      <td>180.0</td>\n",
       "      <td>180.0</td>\n",
       "      <td>180.0</td>\n",
       "      <td>13.0</td>\n",
       "      <td>20113</td>\n",
       "      <td>8.33774</td>\n",
       "      <td>8.22186</td>\n",
       "      <td>26647</td>\n",
       "      <td>372</td>\n",
       "      <td>1219</td>\n",
       "      <td>5865</td>\n",
       "      <td>5347</td>\n",
       "      <td>2562</td>\n",
       "      <td>3.4785</td>\n",
       "    </tr>\n",
       "    <tr>\n",
       "      <th>1</th>\n",
       "      <td>120677</td>\n",
       "      <td>boardgame</td>\n",
       "      <td>Terra Mystica</td>\n",
       "      <td>2012.0</td>\n",
       "      <td>2.0</td>\n",
       "      <td>5.0</td>\n",
       "      <td>150.0</td>\n",
       "      <td>60.0</td>\n",
       "      <td>150.0</td>\n",
       "      <td>12.0</td>\n",
       "      <td>14383</td>\n",
       "      <td>8.28798</td>\n",
       "      <td>8.14232</td>\n",
       "      <td>16519</td>\n",
       "      <td>132</td>\n",
       "      <td>1586</td>\n",
       "      <td>6277</td>\n",
       "      <td>2526</td>\n",
       "      <td>1423</td>\n",
       "      <td>3.8939</td>\n",
       "    </tr>\n",
       "    <tr>\n",
       "      <th>2</th>\n",
       "      <td>102794</td>\n",
       "      <td>boardgame</td>\n",
       "      <td>Caverna: The Cave Farmers</td>\n",
       "      <td>2013.0</td>\n",
       "      <td>1.0</td>\n",
       "      <td>7.0</td>\n",
       "      <td>210.0</td>\n",
       "      <td>30.0</td>\n",
       "      <td>210.0</td>\n",
       "      <td>12.0</td>\n",
       "      <td>9262</td>\n",
       "      <td>8.28994</td>\n",
       "      <td>8.06886</td>\n",
       "      <td>12230</td>\n",
       "      <td>99</td>\n",
       "      <td>1476</td>\n",
       "      <td>5600</td>\n",
       "      <td>1700</td>\n",
       "      <td>777</td>\n",
       "      <td>3.7761</td>\n",
       "    </tr>\n",
       "    <tr>\n",
       "      <th>3</th>\n",
       "      <td>25613</td>\n",
       "      <td>boardgame</td>\n",
       "      <td>Through the Ages: A Story of Civilization</td>\n",
       "      <td>2006.0</td>\n",
       "      <td>2.0</td>\n",
       "      <td>4.0</td>\n",
       "      <td>240.0</td>\n",
       "      <td>240.0</td>\n",
       "      <td>240.0</td>\n",
       "      <td>12.0</td>\n",
       "      <td>13294</td>\n",
       "      <td>8.20407</td>\n",
       "      <td>8.05804</td>\n",
       "      <td>14343</td>\n",
       "      <td>362</td>\n",
       "      <td>1084</td>\n",
       "      <td>5075</td>\n",
       "      <td>3378</td>\n",
       "      <td>1642</td>\n",
       "      <td>4.1590</td>\n",
       "    </tr>\n",
       "    <tr>\n",
       "      <th>4</th>\n",
       "      <td>3076</td>\n",
       "      <td>boardgame</td>\n",
       "      <td>Puerto Rico</td>\n",
       "      <td>2002.0</td>\n",
       "      <td>2.0</td>\n",
       "      <td>5.0</td>\n",
       "      <td>150.0</td>\n",
       "      <td>90.0</td>\n",
       "      <td>150.0</td>\n",
       "      <td>12.0</td>\n",
       "      <td>39883</td>\n",
       "      <td>8.14261</td>\n",
       "      <td>8.04524</td>\n",
       "      <td>44362</td>\n",
       "      <td>795</td>\n",
       "      <td>861</td>\n",
       "      <td>5414</td>\n",
       "      <td>9173</td>\n",
       "      <td>5213</td>\n",
       "      <td>3.2943</td>\n",
       "    </tr>\n",
       "  </tbody>\n",
       "</table>\n",
       "</div>"
      ],
      "text/plain": [
       "       id       type                                       name  \\\n",
       "0   12333  boardgame                          Twilight Struggle   \n",
       "1  120677  boardgame                              Terra Mystica   \n",
       "2  102794  boardgame                  Caverna: The Cave Farmers   \n",
       "3   25613  boardgame  Through the Ages: A Story of Civilization   \n",
       "4    3076  boardgame                                Puerto Rico   \n",
       "\n",
       "   yearpublished  minplayers  maxplayers  playingtime  minplaytime  \\\n",
       "0         2005.0         2.0         2.0        180.0        180.0   \n",
       "1         2012.0         2.0         5.0        150.0         60.0   \n",
       "2         2013.0         1.0         7.0        210.0         30.0   \n",
       "3         2006.0         2.0         4.0        240.0        240.0   \n",
       "4         2002.0         2.0         5.0        150.0         90.0   \n",
       "\n",
       "   maxplaytime  minage  users_rated  average_rating  bayes_average_rating  \\\n",
       "0        180.0    13.0        20113         8.33774               8.22186   \n",
       "1        150.0    12.0        14383         8.28798               8.14232   \n",
       "2        210.0    12.0         9262         8.28994               8.06886   \n",
       "3        240.0    12.0        13294         8.20407               8.05804   \n",
       "4        150.0    12.0        39883         8.14261               8.04524   \n",
       "\n",
       "   total_owners  total_traders  total_wanters  total_wishers  total_comments  \\\n",
       "0         26647            372           1219           5865            5347   \n",
       "1         16519            132           1586           6277            2526   \n",
       "2         12230             99           1476           5600            1700   \n",
       "3         14343            362           1084           5075            3378   \n",
       "4         44362            795            861           5414            9173   \n",
       "\n",
       "   total_weights  average_weight  \n",
       "0           2562          3.4785  \n",
       "1           1423          3.8939  \n",
       "2            777          3.7761  \n",
       "3           1642          4.1590  \n",
       "4           5213          3.2943  "
      ]
     },
     "execution_count": 1,
     "metadata": {},
     "output_type": "execute_result"
    }
   ],
   "source": [
    "import pandas as pd\n",
    "board_games = pd.read_csv(\"board_games.csv\")\n",
    "board_games.head(5)\n",
    "board_games.shape\n",
    "board_games = board_games.dropna()\n",
    "# Remove rows with no reviews, where the users_rated column = 0\n",
    "board_games = board_games[board_games[\"users_rated\"] != 0]\n",
    "board_games.head(5)\n"
   ]
  },
  {
   "cell_type": "code",
   "execution_count": 2,
   "metadata": {
    "collapsed": false
   },
   "outputs": [
    {
     "data": {
      "image/png": "[encoded data removed]",
      "text/plain": [
       "<matplotlib.figure.Figure at 0x1ed811f5160>"
      ]
     },
     "metadata": {},
     "output_type": "display_data"
    }
   ],
   "source": [
    "import matplotlib.pyplot as plt\n",
    "%matplotlib inline\n",
    "plt.hist(board_games[\"average_rating\"])\n",
    "plt.show()"
   ]
  },
  {
   "cell_type": "markdown",
   "metadata": {
    "collapsed": true
   },
   "source": [
    "The histogram of the average rating variable, show that most of their values are rounded to 6. There is a high amount of games that were rated in the range of scores between 6 and 8.\n",
    "\n",
    "In the other hand, there are few extreme values such as 10 or 1 among the rating average. This show that the distribution of average_rating mainly concentrate around it's mean that is around 6.5. "
   ]
  },
  {
   "cell_type": "code",
   "execution_count": 3,
   "metadata": {
    "collapsed": false
   },
   "outputs": [
    {
     "data": {
      "image/png": "[encoded data removed]",
      "text/plain": [
       "<matplotlib.figure.Figure at 0x1ed811d9ef0>"
      ]
     },
     "metadata": {},
     "output_type": "display_data"
    }
   ],
   "source": [
    "plt.boxplot(board_games[\"average_rating\"])\n",
    "plt.show()"
   ]
  },
  {
   "cell_type": "markdown",
   "metadata": {},
   "source": [
    "The box and plot show that the median of the variable is 6 aproximately and the second and third quartile of the distribution are within 5 and 7. That means that the 50% of the rating average values fall into that range. \n",
    "This feature, can be observe in the histogram too, where the mayority of the values were concentrated around the value of 6. \n",
    "\n",
    "Is possible to observe that there is a group of values between 1 and 2, below the first quantile that are considered atypical data, because doesn´t fall in the body of the distribution. "
   ]
  },
  {
   "cell_type": "code",
   "execution_count": 4,
   "metadata": {
    "collapsed": false
   },
   "outputs": [
    {
     "data": {
      "text/plain": [
       "1.5788299348332662"
      ]
     },
     "execution_count": 4,
     "metadata": {},
     "output_type": "execute_result"
    }
   ],
   "source": [
    "# Calculate the Standar Deviation of the average rating column\n",
    "board_games[\"average_rating\"].std()"
   ]
  },
  {
   "cell_type": "markdown",
   "metadata": {},
   "source": [
    "The standard deviation of the average rating values is 1.58 and means that there little variation around the mean value of the average_rating variable. "
   ]
  },
  {
   "cell_type": "code",
   "execution_count": 5,
   "metadata": {
    "collapsed": false
   },
   "outputs": [
    {
     "data": {
      "text/plain": [
       "6.016112849333889"
      ]
     },
     "execution_count": 5,
     "metadata": {},
     "output_type": "execute_result"
    }
   ],
   "source": [
    "board_games[\"average_rating\"].mean()"
   ]
  },
  {
   "cell_type": "code",
   "execution_count": null,
   "metadata": {
    "collapsed": true
   },
   "outputs": [],
   "source": []
  },
  {
   "cell_type": "markdown",
   "metadata": {},
   "source": [
    "The mean of the series is 6, also the series has a narrow standar deviation. These features cause that the majority of the values are concentrated around the mean. "
   ]
  },
  {
   "cell_type": "code",
   "execution_count": 6,
   "metadata": {
    "collapsed": false
   },
   "outputs": [
    {
     "data": {
      "text/plain": [
       "KMeans(copy_x=True, init='k-means++', max_iter=300, n_clusters=5, n_init=10,\n",
       "    n_jobs=1, precompute_distances='auto', random_state=None, tol=0.0001,\n",
       "    verbose=0)"
      ]
     },
     "execution_count": 6,
     "metadata": {},
     "output_type": "execute_result"
    }
   ],
   "source": [
    "# Plotting Clusters \n",
    "# At first, I use the KMeans class to create clusters \n",
    "import numpy as np\n",
    "from sklearn.cluster import KMeans\n",
    "\n",
    "numeric_columns = board_games.drop(board_games.columns[[0,1,2]],axis=1) # Extract only the numeric columns of the board_games dataframe\n",
    "kmeans_model = KMeans(n_clusters = 5)\n",
    "cluster = kmeans_model.fit(numeric_columns) # Transform numeric columns in cluster distance space \n",
    "labels = kmeans_model.labels_ # Extract the labels attribute of each cluster and assing to the variable labels\n",
    "cluster"
   ]
  },
  {
   "cell_type": "code",
   "execution_count": 7,
   "metadata": {
    "collapsed": false
   },
   "outputs": [
    {
     "data": {
      "image/png": "[encoded data removed]",
      "text/plain": [
       "<matplotlib.figure.Figure at 0x1ed8668f400>"
      ]
     },
     "metadata": {},
     "output_type": "display_data"
    },
    {
     "data": {
      "text/plain": [
       "0        3806.296359\n",
       "1        2662.195541\n",
       "2        1979.243229\n",
       "3        2467.201242\n",
       "4        6360.675421\n",
       "5        6598.986708\n",
       "6        2991.732713\n",
       "7        2655.662206\n",
       "8        2795.416065\n",
       "9        2792.273392\n",
       "10       5580.305755\n",
       "11       1152.445934\n",
       "12        992.127904\n",
       "13       2315.153568\n",
       "14       2726.683881\n",
       "15       1621.103150\n",
       "16       2154.081042\n",
       "17       1987.930732\n",
       "18       5953.529588\n",
       "19       3151.088482\n",
       "20       1410.825956\n",
       "21       3237.767121\n",
       "22       1945.272206\n",
       "23       4728.205226\n",
       "24       2294.006601\n",
       "25       2648.861422\n",
       "26       1835.704201\n",
       "27       3403.590974\n",
       "28       3410.337148\n",
       "29       2325.574743\n",
       "            ...     \n",
       "81134     128.529412\n",
       "81160     123.411765\n",
       "81162       6.176471\n",
       "81176     134.364706\n",
       "81177     134.364706\n",
       "81178     134.164706\n",
       "81179     134.348039\n",
       "81180     134.348039\n",
       "81181     134.294118\n",
       "81184     133.823529\n",
       "81188     123.588235\n",
       "81190     134.941176\n",
       "81192     125.764706\n",
       "81193     125.558824\n",
       "81195     122.470588\n",
       "81198     124.117647\n",
       "81199     127.294118\n",
       "81204     125.888235\n",
       "81234     124.411765\n",
       "81249     122.235294\n",
       "81254     124.441176\n",
       "81255     124.926471\n",
       "81256     124.764706\n",
       "81257     124.705882\n",
       "81258     125.000000\n",
       "81260     125.117647\n",
       "81261     125.294118\n",
       "81263     125.411765\n",
       "81278     120.176471\n",
       "81279     128.911765\n",
       "dtype: float64"
      ]
     },
     "execution_count": 7,
     "metadata": {},
     "output_type": "execute_result"
    }
   ],
   "source": [
    "# In this step, I will plot each cluster by calculating the mean and standard deviation of each row in numeric_columns \n",
    "# and visualize in a scatter plot \n",
    "game_mean = numeric_columns.apply(np.mean,axis=1)\n",
    "\n",
    "game_std = numeric_columns.apply(np.std,axis=1)\n",
    "plt.scatter(game_mean,game_std,c=labels)\n",
    "plt.show()\n",
    "game_mean"
   ]
  },
  {
   "cell_type": "markdown",
   "metadata": {},
   "source": [
    "The result of the scatter plot tell that there are a strong correlation among the mean and standard deviation of all the values in each row. The mean of the value in a certain row, is correlated with the standard deviation of that row. The graph show that the clusters are concentrated within a mean between 0 and 4000 and a standard deviation between 0 an 10000. Only one cluster that is labeled with the green color has higher values of the mean and standard deviation than the others cluster. This means that for a certain cluster, there are rows in the dataset that  have higher values in some columns such as number of users that rated the game(user_rated), total owners, total wishers and total comments. "
   ]
  },
  {
   "cell_type": "code",
   "execution_count": 8,
   "metadata": {
    "collapsed": false
   },
   "outputs": [
    {
     "data": {
      "text/plain": [
       "yearpublished           0.108461\n",
       "minplayers             -0.032701\n",
       "maxplayers             -0.008335\n",
       "playingtime             0.048994\n",
       "minplaytime             0.043985\n",
       "maxplaytime             0.048994\n",
       "minage                  0.210049\n",
       "users_rated             0.112564\n",
       "average_rating          1.000000\n",
       "bayes_average_rating    0.231563\n",
       "total_owners            0.137478\n",
       "total_traders           0.119452\n",
       "total_wanters           0.196566\n",
       "total_wishers           0.171375\n",
       "total_comments          0.123714\n",
       "total_weights           0.109691\n",
       "average_weight          0.351081\n",
       "Name: average_rating, dtype: float64"
      ]
     },
     "execution_count": 8,
     "metadata": {},
     "output_type": "execute_result"
    }
   ],
   "source": [
    "# In order to predict the value of the variable average_rating is necessary to identify the variables with the highest \n",
    "# correlation to average_rating. For this purpose, first I observe the correlation between average_rating and the others variables\n",
    "# Generate the correlations dataframe and secondly select the column average_rating in that daframe that show all the correlations\n",
    "\n",
    "correlations = numeric_columns.corr()\n",
    "correlations[\"average_rating\"]"
   ]
  },
  {
   "cell_type": "markdown",
   "metadata": {},
   "source": [
    "It´s remarkably the correlation that the average_weight variable has with average_rating. The average_weight variable is a measure of the subjective valoration that users perform in terms of the accesibility of the game. If the game is difficult to understand, and is required more time to be able to play the game, the valoration is higher than in the case that the level of the game, is easy. This valoration about the complexity of the game, has a positive correlation with the average rating column. \n",
    "\n",
    "Secondly, we can find that the minage variable(min age to play the game) also has a positive correlation with average rating but this correlation is weakly respect the average_weight variable. In the next step I will remove columns seems to be derived from average_rating such as bayes_average_rating. In order to not cause overfitting, this variable has to be removed. "
   ]
  },
  {
   "cell_type": "code",
   "execution_count": 9,
   "metadata": {
    "collapsed": false
   },
   "outputs": [
    {
     "data": {
      "text/html": [
       "<div>\n",
       "<table border=\"1\" class=\"dataframe\">\n",
       "  <thead>\n",
       "    <tr style=\"text-align: right;\">\n",
       "      <th></th>\n",
       "      <th>yearpublished</th>\n",
       "      <th>minage</th>\n",
       "      <th>users_rated</th>\n",
       "      <th>average_rating</th>\n",
       "      <th>total_owners</th>\n",
       "      <th>total_traders</th>\n",
       "      <th>total_wanters</th>\n",
       "      <th>total_wishers</th>\n",
       "      <th>total_comments</th>\n",
       "      <th>total_weights</th>\n",
       "      <th>average_weight</th>\n",
       "    </tr>\n",
       "  </thead>\n",
       "  <tbody>\n",
       "    <tr>\n",
       "      <th>0</th>\n",
       "      <td>2005.0</td>\n",
       "      <td>13.0</td>\n",
       "      <td>20113</td>\n",
       "      <td>8.33774</td>\n",
       "      <td>26647</td>\n",
       "      <td>372</td>\n",
       "      <td>1219</td>\n",
       "      <td>5865</td>\n",
       "      <td>5347</td>\n",
       "      <td>2562</td>\n",
       "      <td>3.4785</td>\n",
       "    </tr>\n",
       "    <tr>\n",
       "      <th>1</th>\n",
       "      <td>2012.0</td>\n",
       "      <td>12.0</td>\n",
       "      <td>14383</td>\n",
       "      <td>8.28798</td>\n",
       "      <td>16519</td>\n",
       "      <td>132</td>\n",
       "      <td>1586</td>\n",
       "      <td>6277</td>\n",
       "      <td>2526</td>\n",
       "      <td>1423</td>\n",
       "      <td>3.8939</td>\n",
       "    </tr>\n",
       "    <tr>\n",
       "      <th>2</th>\n",
       "      <td>2013.0</td>\n",
       "      <td>12.0</td>\n",
       "      <td>9262</td>\n",
       "      <td>8.28994</td>\n",
       "      <td>12230</td>\n",
       "      <td>99</td>\n",
       "      <td>1476</td>\n",
       "      <td>5600</td>\n",
       "      <td>1700</td>\n",
       "      <td>777</td>\n",
       "      <td>3.7761</td>\n",
       "    </tr>\n",
       "    <tr>\n",
       "      <th>3</th>\n",
       "      <td>2006.0</td>\n",
       "      <td>12.0</td>\n",
       "      <td>13294</td>\n",
       "      <td>8.20407</td>\n",
       "      <td>14343</td>\n",
       "      <td>362</td>\n",
       "      <td>1084</td>\n",
       "      <td>5075</td>\n",
       "      <td>3378</td>\n",
       "      <td>1642</td>\n",
       "      <td>4.1590</td>\n",
       "    </tr>\n",
       "    <tr>\n",
       "      <th>4</th>\n",
       "      <td>2002.0</td>\n",
       "      <td>12.0</td>\n",
       "      <td>39883</td>\n",
       "      <td>8.14261</td>\n",
       "      <td>44362</td>\n",
       "      <td>795</td>\n",
       "      <td>861</td>\n",
       "      <td>5414</td>\n",
       "      <td>9173</td>\n",
       "      <td>5213</td>\n",
       "      <td>3.2943</td>\n",
       "    </tr>\n",
       "  </tbody>\n",
       "</table>\n",
       "</div>"
      ],
      "text/plain": [
       "   yearpublished  minage  users_rated  average_rating  total_owners  \\\n",
       "0         2005.0    13.0        20113         8.33774         26647   \n",
       "1         2012.0    12.0        14383         8.28798         16519   \n",
       "2         2013.0    12.0         9262         8.28994         12230   \n",
       "3         2006.0    12.0        13294         8.20407         14343   \n",
       "4         2002.0    12.0        39883         8.14261         44362   \n",
       "\n",
       "   total_traders  total_wanters  total_wishers  total_comments  total_weights  \\\n",
       "0            372           1219           5865            5347           2562   \n",
       "1            132           1586           6277            2526           1423   \n",
       "2             99           1476           5600            1700            777   \n",
       "3            362           1084           5075            3378           1642   \n",
       "4            795            861           5414            9173           5213   \n",
       "\n",
       "   average_weight  \n",
       "0          3.4785  \n",
       "1          3.8939  \n",
       "2          3.7761  \n",
       "3          4.1590  \n",
       "4          3.2943  "
      ]
     },
     "execution_count": 9,
     "metadata": {},
     "output_type": "execute_result"
    }
   ],
   "source": [
    "# I will remove columns that don´t seem to correlate at all with the average rating variable and columns that \n",
    "# seem to be derived from the average rating.\n",
    "df = numeric_columns.drop(numeric_columns[[\"bayes_average_rating\",\"minplayers\",\"maxplayers\",\"playingtime\",\"minplaytime\",\"maxplaytime\",]],axis=1)\n",
    "df.head()"
   ]
  },
  {
   "cell_type": "code",
   "execution_count": 10,
   "metadata": {
    "collapsed": false
   },
   "outputs": [
    {
     "name": "stdout",
     "output_type": "stream",
     "text": [
      "[ 7.15311346  7.28359492  7.23487475 ...,  6.16936732  5.50785613\n",
      "  6.12823178]\n"
     ]
    },
    {
     "data": {
      "text/plain": [
       "2.1476659364250037"
      ]
     },
     "execution_count": 10,
     "metadata": {},
     "output_type": "execute_result"
    }
   ],
   "source": [
    "# Creating a Linear Regression Model to make predicctions of average rating variable \n",
    "import sklearn\n",
    "from sklearn.linear_model import LinearRegression\n",
    "from sklearn import cross_validation\n",
    "from sklearn.metrics import mean_squared_error\n",
    "\n",
    "reg = LinearRegression() # Initialize the linear regression model\n",
    "\n",
    "\n",
    "model = reg.fit(board_games[[\"average_weight\",\"minage\"]],board_games[\"average_rating\"]) # Set the predictor columns and the target column that the model will use \n",
    "model.coef_ # show the coefficients of the predictors \n",
    "predictions = reg.predict(board_games[[\"average_weight\",\"minage\"]])\n",
    "print(predictions)\n",
    "# Calculate de error metric MSE\n",
    "\n",
    "mse = mean_squared_error(board_games[\"average_rating\"],predictions)\n",
    "mse\n"
   ]
  },
  {
   "cell_type": "markdown",
   "metadata": {
    "collapsed": true
   },
   "source": [
    "The mean square error for this model is 2.15 that means that the average of the square differences between the true value of average_rating and the predicted value for this variable is 2.15.\n",
    "This value can interpret as the variance of the model to predict the target. "
   ]
  },
  {
   "cell_type": "code",
   "execution_count": 11,
   "metadata": {
    "collapsed": false
   },
   "outputs": [
    {
     "data": {
      "text/plain": [
       "(56894, 20)"
      ]
     },
     "execution_count": 11,
     "metadata": {},
     "output_type": "execute_result"
    }
   ],
   "source": [
    "# In this step, I would split the board_games dataframe creating a train and test dataset and evaluate the performance\n",
    "# of the model in the test dataset.\n",
    "\n",
    "x = board_games[[\"average_weight\",\"minage\"]]\n",
    "y = board_games[[\"average_rating\"]]\n",
    "\n",
    "X_train, X_test, y_train, y_test = cross_validation.train_test_split(x,y,test_size=0.2)\n",
    "\n",
    "\n",
    "board_games.shape\n",
    "    "
   ]
  },
  {
   "cell_type": "code",
   "execution_count": 12,
   "metadata": {
    "collapsed": false
   },
   "outputs": [
    {
     "data": {
      "text/plain": [
       "2.0975918970386283"
      ]
     },
     "execution_count": 12,
     "metadata": {},
     "output_type": "execute_result"
    }
   ],
   "source": [
    "# Initialize the linear regression model, fit the model and calculated the mean squared error in the test set. \n",
    "lr = LinearRegression()\n",
    "model = lr.fit(X_train,y_train) \n",
    "predictions = lr.predict(X_test)\n",
    "\n",
    "mse = mean_squared_error(y_test,predictions)\n",
    "mse\n"
   ]
  },
  {
   "cell_type": "code",
   "execution_count": 13,
   "metadata": {
    "collapsed": true
   },
   "outputs": [],
   "source": [
    "# In this step, I take new variables and remove the minage variable from the model. \n",
    "# After reviewed the board game geek site to view some interesting variables that could be suitable for the model, I \n",
    "# choose the total_wanters and total_wishers variables for each game, that are seems to be correlated to the average_rating\n",
    "# variable\n",
    "\n",
    "x = board_games[[\"average_weight\",\"total_wanters\",\"total_wishers\"]]\n",
    "y = board_games[\"average_rating\"]\n",
    "X_train, X_test, y_train, y_test = cross_validation.train_test_split(x,y,test_size=0.2)"
   ]
  },
  {
   "cell_type": "code",
   "execution_count": 14,
   "metadata": {
    "collapsed": false
   },
   "outputs": [
    {
     "data": {
      "text/plain": [
       "2.166878339819184"
      ]
     },
     "execution_count": 14,
     "metadata": {},
     "output_type": "execute_result"
    }
   ],
   "source": [
    "# Initialize the linear regression model, fit the model and calculated the mean squared error in the test set. \n",
    "lr = LinearRegression()\n",
    "model = lr.fit(X_train,y_train) \n",
    "predictions = lr.predict(X_test)\n",
    "\n",
    "mse = mean_squared_error(y_test,predictions)\n",
    "mse\n"
   ]
  },
  {
   "cell_type": "code",
   "execution_count": 15,
   "metadata": {
    "collapsed": false
   },
   "outputs": [],
   "source": [
    "# Create new features that could have a positive effect in predict the target variable\n",
    "board_games[\"player_range\"] = board_games[\"maxplayers\"] - board_games[\"minplayers\"]\n",
    "board_games[\"playing_time_ranges\"] = board_games[\"maxplaytime\"] - board_games[\"minplaytime\"]\n",
    "board_games[\"average_number_ratings\"] = board_games[\"total_owners\"] / board_games[\"users_rated\"]"
   ]
  },
  {
   "cell_type": "code",
   "execution_count": 16,
   "metadata": {
    "collapsed": true
   },
   "outputs": [],
   "source": [
    "x = board_games[[\"average_weight\",\"player_range\",\"average_number_ratings\"]]\n",
    "y = board_games[\"average_rating\"]\n",
    "X_train, X_test, y_train, y_test = cross_validation.train_test_split(x,y,test_size=0.2)"
   ]
  },
  {
   "cell_type": "code",
   "execution_count": 17,
   "metadata": {
    "collapsed": false
   },
   "outputs": [
    {
     "data": {
      "text/plain": [
       "2.111132443515646"
      ]
     },
     "execution_count": 17,
     "metadata": {},
     "output_type": "execute_result"
    }
   ],
   "source": [
    "# Initialize the linear regression model, fit the model and calculated the mean squared error in the test set. \n",
    "lr = LinearRegression()\n",
    "model = lr.fit(X_train,y_train) \n",
    "predictions = lr.predict(X_test)\n",
    "\n",
    "mse = mean_squared_error(y_test,predictions)\n",
    "mse\n"
   ]
  },
  {
   "cell_type": "code",
   "execution_count": 18,
   "metadata": {
    "collapsed": false
   },
   "outputs": [
    {
     "data": {
      "text/plain": [
       "{0: 5.977028000145592,\n",
       " 1: 7.336280134228191,\n",
       " 2: 7.078618987500011,\n",
       " 3: 6.4255949999999995,\n",
       " 4: 7.553986857142857}"
      ]
     },
     "execution_count": 18,
     "metadata": {},
     "output_type": "execute_result"
    }
   ],
   "source": [
    "# In this step, I would visualize each cluster on behalf the average_rating value in each one. For this I make a \n",
    "# dictionary called average_rating_per_cluster and get the mean of average_rating in each cluster. \n",
    "\n",
    "board_games[\"cluster\"] = labels\n",
    "board_games[\"cluster\"].value_counts()\n",
    "board_games[0:20]\n",
    "clusters = board_games[\"cluster\"].unique()\n",
    "average_rating_per_cluster = {}\n",
    "\n",
    "for cluster in clusters:\n",
    "    unique_cluster = board_games[board_games[\"cluster\"] == cluster]\n",
    "    cluster_average_rating = unique_cluster[\"average_rating\"].mean()\n",
    "    average_rating_per_cluster[cluster] = cluster_average_rating\n",
    "average_rating_per_cluster    \n",
    "        \n"
   ]
  },
  {
   "cell_type": "code",
   "execution_count": 19,
   "metadata": {
    "collapsed": false
   },
   "outputs": [
    {
     "data": {
      "image/png": "[encoded data removed]",
      "text/plain": [
       "<matplotlib.figure.Figure at 0x1ed87d95208>"
      ]
     },
     "metadata": {},
     "output_type": "display_data"
    },
    {
     "data": {
      "text/html": [
       "<div>\n",
       "<table border=\"1\" class=\"dataframe\">\n",
       "  <thead>\n",
       "    <tr style=\"text-align: right;\">\n",
       "      <th></th>\n",
       "      <th>id</th>\n",
       "      <th>type</th>\n",
       "      <th>name</th>\n",
       "      <th>yearpublished</th>\n",
       "      <th>minplayers</th>\n",
       "      <th>maxplayers</th>\n",
       "      <th>playingtime</th>\n",
       "      <th>minplaytime</th>\n",
       "      <th>maxplaytime</th>\n",
       "      <th>minage</th>\n",
       "      <th>...</th>\n",
       "      <th>total_traders</th>\n",
       "      <th>total_wanters</th>\n",
       "      <th>total_wishers</th>\n",
       "      <th>total_comments</th>\n",
       "      <th>total_weights</th>\n",
       "      <th>average_weight</th>\n",
       "      <th>player_range</th>\n",
       "      <th>playing_time_ranges</th>\n",
       "      <th>average_number_ratings</th>\n",
       "      <th>cluster</th>\n",
       "    </tr>\n",
       "  </thead>\n",
       "  <tbody>\n",
       "    <tr>\n",
       "      <th>0</th>\n",
       "      <td>12333</td>\n",
       "      <td>boardgame</td>\n",
       "      <td>Twilight Struggle</td>\n",
       "      <td>2005.0</td>\n",
       "      <td>2.0</td>\n",
       "      <td>2.0</td>\n",
       "      <td>180.0</td>\n",
       "      <td>180.0</td>\n",
       "      <td>180.0</td>\n",
       "      <td>13.0</td>\n",
       "      <td>...</td>\n",
       "      <td>372</td>\n",
       "      <td>1219</td>\n",
       "      <td>5865</td>\n",
       "      <td>5347</td>\n",
       "      <td>2562</td>\n",
       "      <td>3.4785</td>\n",
       "      <td>0.0</td>\n",
       "      <td>0.0</td>\n",
       "      <td>1.324865</td>\n",
       "      <td>1</td>\n",
       "    </tr>\n",
       "    <tr>\n",
       "      <th>1</th>\n",
       "      <td>120677</td>\n",
       "      <td>boardgame</td>\n",
       "      <td>Terra Mystica</td>\n",
       "      <td>2012.0</td>\n",
       "      <td>2.0</td>\n",
       "      <td>5.0</td>\n",
       "      <td>150.0</td>\n",
       "      <td>60.0</td>\n",
       "      <td>150.0</td>\n",
       "      <td>12.0</td>\n",
       "      <td>...</td>\n",
       "      <td>132</td>\n",
       "      <td>1586</td>\n",
       "      <td>6277</td>\n",
       "      <td>2526</td>\n",
       "      <td>1423</td>\n",
       "      <td>3.8939</td>\n",
       "      <td>3.0</td>\n",
       "      <td>90.0</td>\n",
       "      <td>1.148509</td>\n",
       "      <td>1</td>\n",
       "    </tr>\n",
       "    <tr>\n",
       "      <th>2</th>\n",
       "      <td>102794</td>\n",
       "      <td>boardgame</td>\n",
       "      <td>Caverna: The Cave Farmers</td>\n",
       "      <td>2013.0</td>\n",
       "      <td>1.0</td>\n",
       "      <td>7.0</td>\n",
       "      <td>210.0</td>\n",
       "      <td>30.0</td>\n",
       "      <td>210.0</td>\n",
       "      <td>12.0</td>\n",
       "      <td>...</td>\n",
       "      <td>99</td>\n",
       "      <td>1476</td>\n",
       "      <td>5600</td>\n",
       "      <td>1700</td>\n",
       "      <td>777</td>\n",
       "      <td>3.7761</td>\n",
       "      <td>6.0</td>\n",
       "      <td>180.0</td>\n",
       "      <td>1.320449</td>\n",
       "      <td>1</td>\n",
       "    </tr>\n",
       "    <tr>\n",
       "      <th>3</th>\n",
       "      <td>25613</td>\n",
       "      <td>boardgame</td>\n",
       "      <td>Through the Ages: A Story of Civilization</td>\n",
       "      <td>2006.0</td>\n",
       "      <td>2.0</td>\n",
       "      <td>4.0</td>\n",
       "      <td>240.0</td>\n",
       "      <td>240.0</td>\n",
       "      <td>240.0</td>\n",
       "      <td>12.0</td>\n",
       "      <td>...</td>\n",
       "      <td>362</td>\n",
       "      <td>1084</td>\n",
       "      <td>5075</td>\n",
       "      <td>3378</td>\n",
       "      <td>1642</td>\n",
       "      <td>4.1590</td>\n",
       "      <td>2.0</td>\n",
       "      <td>0.0</td>\n",
       "      <td>1.078908</td>\n",
       "      <td>1</td>\n",
       "    </tr>\n",
       "    <tr>\n",
       "      <th>4</th>\n",
       "      <td>3076</td>\n",
       "      <td>boardgame</td>\n",
       "      <td>Puerto Rico</td>\n",
       "      <td>2002.0</td>\n",
       "      <td>2.0</td>\n",
       "      <td>5.0</td>\n",
       "      <td>150.0</td>\n",
       "      <td>90.0</td>\n",
       "      <td>150.0</td>\n",
       "      <td>12.0</td>\n",
       "      <td>...</td>\n",
       "      <td>795</td>\n",
       "      <td>861</td>\n",
       "      <td>5414</td>\n",
       "      <td>9173</td>\n",
       "      <td>5213</td>\n",
       "      <td>3.2943</td>\n",
       "      <td>3.0</td>\n",
       "      <td>60.0</td>\n",
       "      <td>1.112303</td>\n",
       "      <td>4</td>\n",
       "    </tr>\n",
       "    <tr>\n",
       "      <th>5</th>\n",
       "      <td>31260</td>\n",
       "      <td>boardgame</td>\n",
       "      <td>Agricola</td>\n",
       "      <td>2007.0</td>\n",
       "      <td>1.0</td>\n",
       "      <td>5.0</td>\n",
       "      <td>150.0</td>\n",
       "      <td>30.0</td>\n",
       "      <td>150.0</td>\n",
       "      <td>12.0</td>\n",
       "      <td>...</td>\n",
       "      <td>837</td>\n",
       "      <td>958</td>\n",
       "      <td>6402</td>\n",
       "      <td>9310</td>\n",
       "      <td>5065</td>\n",
       "      <td>3.6160</td>\n",
       "      <td>4.0</td>\n",
       "      <td>120.0</td>\n",
       "      <td>1.196606</td>\n",
       "      <td>4</td>\n",
       "    </tr>\n",
       "    <tr>\n",
       "      <th>6</th>\n",
       "      <td>124742</td>\n",
       "      <td>boardgame</td>\n",
       "      <td>Android: Netrunner</td>\n",
       "      <td>2012.0</td>\n",
       "      <td>2.0</td>\n",
       "      <td>2.0</td>\n",
       "      <td>45.0</td>\n",
       "      <td>45.0</td>\n",
       "      <td>45.0</td>\n",
       "      <td>14.0</td>\n",
       "      <td>...</td>\n",
       "      <td>680</td>\n",
       "      <td>627</td>\n",
       "      <td>3244</td>\n",
       "      <td>3202</td>\n",
       "      <td>1260</td>\n",
       "      <td>3.3103</td>\n",
       "      <td>0.0</td>\n",
       "      <td>0.0</td>\n",
       "      <td>1.595511</td>\n",
       "      <td>1</td>\n",
       "    </tr>\n",
       "    <tr>\n",
       "      <th>7</th>\n",
       "      <td>96848</td>\n",
       "      <td>boardgame</td>\n",
       "      <td>Mage Knight Board Game</td>\n",
       "      <td>2011.0</td>\n",
       "      <td>1.0</td>\n",
       "      <td>4.0</td>\n",
       "      <td>150.0</td>\n",
       "      <td>150.0</td>\n",
       "      <td>150.0</td>\n",
       "      <td>14.0</td>\n",
       "      <td>...</td>\n",
       "      <td>367</td>\n",
       "      <td>1116</td>\n",
       "      <td>5427</td>\n",
       "      <td>2861</td>\n",
       "      <td>1409</td>\n",
       "      <td>4.1292</td>\n",
       "      <td>3.0</td>\n",
       "      <td>0.0</td>\n",
       "      <td>1.478223</td>\n",
       "      <td>1</td>\n",
       "    </tr>\n",
       "    <tr>\n",
       "      <th>8</th>\n",
       "      <td>84876</td>\n",
       "      <td>boardgame</td>\n",
       "      <td>The Castles of Burgundy</td>\n",
       "      <td>2011.0</td>\n",
       "      <td>2.0</td>\n",
       "      <td>4.0</td>\n",
       "      <td>90.0</td>\n",
       "      <td>30.0</td>\n",
       "      <td>90.0</td>\n",
       "      <td>12.0</td>\n",
       "      <td>...</td>\n",
       "      <td>215</td>\n",
       "      <td>929</td>\n",
       "      <td>3681</td>\n",
       "      <td>3244</td>\n",
       "      <td>1176</td>\n",
       "      <td>3.0442</td>\n",
       "      <td>2.0</td>\n",
       "      <td>60.0</td>\n",
       "      <td>1.329668</td>\n",
       "      <td>1</td>\n",
       "    </tr>\n",
       "    <tr>\n",
       "      <th>9</th>\n",
       "      <td>72125</td>\n",
       "      <td>boardgame</td>\n",
       "      <td>Eclipse</td>\n",
       "      <td>2011.0</td>\n",
       "      <td>2.0</td>\n",
       "      <td>6.0</td>\n",
       "      <td>200.0</td>\n",
       "      <td>60.0</td>\n",
       "      <td>200.0</td>\n",
       "      <td>14.0</td>\n",
       "      <td>...</td>\n",
       "      <td>273</td>\n",
       "      <td>1108</td>\n",
       "      <td>5581</td>\n",
       "      <td>3188</td>\n",
       "      <td>1486</td>\n",
       "      <td>3.6359</td>\n",
       "      <td>4.0</td>\n",
       "      <td>140.0</td>\n",
       "      <td>1.121077</td>\n",
       "      <td>1</td>\n",
       "    </tr>\n",
       "    <tr>\n",
       "      <th>10</th>\n",
       "      <td>2651</td>\n",
       "      <td>boardgame</td>\n",
       "      <td>Power Grid</td>\n",
       "      <td>2004.0</td>\n",
       "      <td>2.0</td>\n",
       "      <td>6.0</td>\n",
       "      <td>120.0</td>\n",
       "      <td>120.0</td>\n",
       "      <td>120.0</td>\n",
       "      <td>12.0</td>\n",
       "      <td>...</td>\n",
       "      <td>550</td>\n",
       "      <td>1171</td>\n",
       "      <td>6157</td>\n",
       "      <td>7531</td>\n",
       "      <td>3998</td>\n",
       "      <td>3.2911</td>\n",
       "      <td>4.0</td>\n",
       "      <td>0.0</td>\n",
       "      <td>1.122335</td>\n",
       "      <td>4</td>\n",
       "    </tr>\n",
       "    <tr>\n",
       "      <th>11</th>\n",
       "      <td>164153</td>\n",
       "      <td>boardgame</td>\n",
       "      <td>Star Wars: Imperial Assault</td>\n",
       "      <td>2014.0</td>\n",
       "      <td>2.0</td>\n",
       "      <td>5.0</td>\n",
       "      <td>90.0</td>\n",
       "      <td>90.0</td>\n",
       "      <td>90.0</td>\n",
       "      <td>0.0</td>\n",
       "      <td>...</td>\n",
       "      <td>57</td>\n",
       "      <td>701</td>\n",
       "      <td>2970</td>\n",
       "      <td>736</td>\n",
       "      <td>360</td>\n",
       "      <td>3.2250</td>\n",
       "      <td>3.0</td>\n",
       "      <td>0.0</td>\n",
       "      <td>2.129899</td>\n",
       "      <td>2</td>\n",
       "    </tr>\n",
       "    <tr>\n",
       "      <th>12</th>\n",
       "      <td>115746</td>\n",
       "      <td>boardgame</td>\n",
       "      <td>War of the Ring (second edition)</td>\n",
       "      <td>2012.0</td>\n",
       "      <td>2.0</td>\n",
       "      <td>4.0</td>\n",
       "      <td>150.0</td>\n",
       "      <td>150.0</td>\n",
       "      <td>150.0</td>\n",
       "      <td>13.0</td>\n",
       "      <td>...</td>\n",
       "      <td>71</td>\n",
       "      <td>677</td>\n",
       "      <td>2431</td>\n",
       "      <td>771</td>\n",
       "      <td>288</td>\n",
       "      <td>3.9375</td>\n",
       "      <td>2.0</td>\n",
       "      <td>0.0</td>\n",
       "      <td>1.616796</td>\n",
       "      <td>2</td>\n",
       "    </tr>\n",
       "    <tr>\n",
       "      <th>13</th>\n",
       "      <td>121921</td>\n",
       "      <td>boardgame</td>\n",
       "      <td>Robinson Crusoe: Adventures on the Cursed Island</td>\n",
       "      <td>2012.0</td>\n",
       "      <td>1.0</td>\n",
       "      <td>4.0</td>\n",
       "      <td>180.0</td>\n",
       "      <td>90.0</td>\n",
       "      <td>180.0</td>\n",
       "      <td>14.0</td>\n",
       "      <td>...</td>\n",
       "      <td>217</td>\n",
       "      <td>1379</td>\n",
       "      <td>5821</td>\n",
       "      <td>2109</td>\n",
       "      <td>896</td>\n",
       "      <td>3.6328</td>\n",
       "      <td>3.0</td>\n",
       "      <td>90.0</td>\n",
       "      <td>1.508302</td>\n",
       "      <td>1</td>\n",
       "    </tr>\n",
       "    <tr>\n",
       "      <th>14</th>\n",
       "      <td>35677</td>\n",
       "      <td>boardgame</td>\n",
       "      <td>Le Havre</td>\n",
       "      <td>2008.0</td>\n",
       "      <td>1.0</td>\n",
       "      <td>5.0</td>\n",
       "      <td>200.0</td>\n",
       "      <td>100.0</td>\n",
       "      <td>200.0</td>\n",
       "      <td>12.0</td>\n",
       "      <td>...</td>\n",
       "      <td>205</td>\n",
       "      <td>1343</td>\n",
       "      <td>5149</td>\n",
       "      <td>3458</td>\n",
       "      <td>1450</td>\n",
       "      <td>3.7531</td>\n",
       "      <td>4.0</td>\n",
       "      <td>100.0</td>\n",
       "      <td>1.041524</td>\n",
       "      <td>1</td>\n",
       "    </tr>\n",
       "  </tbody>\n",
       "</table>\n",
       "<p>15 rows × 24 columns</p>\n",
       "</div>"
      ],
      "text/plain": [
       "        id       type                                              name  \\\n",
       "0    12333  boardgame                                 Twilight Struggle   \n",
       "1   120677  boardgame                                     Terra Mystica   \n",
       "2   102794  boardgame                         Caverna: The Cave Farmers   \n",
       "3    25613  boardgame         Through the Ages: A Story of Civilization   \n",
       "4     3076  boardgame                                       Puerto Rico   \n",
       "5    31260  boardgame                                          Agricola   \n",
       "6   124742  boardgame                                Android: Netrunner   \n",
       "7    96848  boardgame                            Mage Knight Board Game   \n",
       "8    84876  boardgame                           The Castles of Burgundy   \n",
       "9    72125  boardgame                                           Eclipse   \n",
       "10    2651  boardgame                                        Power Grid   \n",
       "11  164153  boardgame                       Star Wars: Imperial Assault   \n",
       "12  115746  boardgame                  War of the Ring (second edition)   \n",
       "13  121921  boardgame  Robinson Crusoe: Adventures on the Cursed Island   \n",
       "14   35677  boardgame                                          Le Havre   \n",
       "\n",
       "    yearpublished  minplayers  maxplayers  playingtime  minplaytime  \\\n",
       "0          2005.0         2.0         2.0        180.0        180.0   \n",
       "1          2012.0         2.0         5.0        150.0         60.0   \n",
       "2          2013.0         1.0         7.0        210.0         30.0   \n",
       "3          2006.0         2.0         4.0        240.0        240.0   \n",
       "4          2002.0         2.0         5.0        150.0         90.0   \n",
       "5          2007.0         1.0         5.0        150.0         30.0   \n",
       "6          2012.0         2.0         2.0         45.0         45.0   \n",
       "7          2011.0         1.0         4.0        150.0        150.0   \n",
       "8          2011.0         2.0         4.0         90.0         30.0   \n",
       "9          2011.0         2.0         6.0        200.0         60.0   \n",
       "10         2004.0         2.0         6.0        120.0        120.0   \n",
       "11         2014.0         2.0         5.0         90.0         90.0   \n",
       "12         2012.0         2.0         4.0        150.0        150.0   \n",
       "13         2012.0         1.0         4.0        180.0         90.0   \n",
       "14         2008.0         1.0         5.0        200.0        100.0   \n",
       "\n",
       "    maxplaytime  minage   ...     total_traders  total_wanters  total_wishers  \\\n",
       "0         180.0    13.0   ...               372           1219           5865   \n",
       "1         150.0    12.0   ...               132           1586           6277   \n",
       "2         210.0    12.0   ...                99           1476           5600   \n",
       "3         240.0    12.0   ...               362           1084           5075   \n",
       "4         150.0    12.0   ...               795            861           5414   \n",
       "5         150.0    12.0   ...               837            958           6402   \n",
       "6          45.0    14.0   ...               680            627           3244   \n",
       "7         150.0    14.0   ...               367           1116           5427   \n",
       "8          90.0    12.0   ...               215            929           3681   \n",
       "9         200.0    14.0   ...               273           1108           5581   \n",
       "10        120.0    12.0   ...               550           1171           6157   \n",
       "11         90.0     0.0   ...                57            701           2970   \n",
       "12        150.0    13.0   ...                71            677           2431   \n",
       "13        180.0    14.0   ...               217           1379           5821   \n",
       "14        200.0    12.0   ...               205           1343           5149   \n",
       "\n",
       "    total_comments  total_weights  average_weight  player_range  \\\n",
       "0             5347           2562          3.4785           0.0   \n",
       "1             2526           1423          3.8939           3.0   \n",
       "2             1700            777          3.7761           6.0   \n",
       "3             3378           1642          4.1590           2.0   \n",
       "4             9173           5213          3.2943           3.0   \n",
       "5             9310           5065          3.6160           4.0   \n",
       "6             3202           1260          3.3103           0.0   \n",
       "7             2861           1409          4.1292           3.0   \n",
       "8             3244           1176          3.0442           2.0   \n",
       "9             3188           1486          3.6359           4.0   \n",
       "10            7531           3998          3.2911           4.0   \n",
       "11             736            360          3.2250           3.0   \n",
       "12             771            288          3.9375           2.0   \n",
       "13            2109            896          3.6328           3.0   \n",
       "14            3458           1450          3.7531           4.0   \n",
       "\n",
       "    playing_time_ranges  average_number_ratings  cluster  \n",
       "0                   0.0                1.324865        1  \n",
       "1                  90.0                1.148509        1  \n",
       "2                 180.0                1.320449        1  \n",
       "3                   0.0                1.078908        1  \n",
       "4                  60.0                1.112303        4  \n",
       "5                 120.0                1.196606        4  \n",
       "6                   0.0                1.595511        1  \n",
       "7                   0.0                1.478223        1  \n",
       "8                  60.0                1.329668        1  \n",
       "9                 140.0                1.121077        1  \n",
       "10                  0.0                1.122335        4  \n",
       "11                  0.0                2.129899        2  \n",
       "12                  0.0                1.616796        2  \n",
       "13                 90.0                1.508302        1  \n",
       "14                100.0                1.041524        1  \n",
       "\n",
       "[15 rows x 24 columns]"
      ]
     },
     "execution_count": 19,
     "metadata": {},
     "output_type": "execute_result"
    }
   ],
   "source": [
    "# The clusters can visualized by the segmentation of total_owners and total_wanters of the games. \n",
    "\n",
    "owners = board_games[\"total_owners\"]\n",
    "wanters = board_games[\"total_wanters\"]\n",
    "\n",
    "\n",
    "plt.scatter(owners,wanters,c=labels)\n",
    "plt.show()\n",
    "\n",
    "\n",
    "board_games[0:15]\n"
   ]
  },
  {
   "cell_type": "code",
   "execution_count": 20,
   "metadata": {
    "collapsed": false
   },
   "outputs": [
    {
     "name": "stdout",
     "output_type": "stream",
     "text": [
      "0.976008436594\n"
     ]
    }
   ],
   "source": [
    "#Finally I will apply the K Nearest Neighboars algorithm to predict in which cluster a new game would fall using a set of \n",
    "# features of the game. If we have a great accuracy in this machine learning task, the game could be classify in a cluster \n",
    "# and have an idea of the average rating that will have as the dictionary that I construct show the average rating value\n",
    "# for each cluster.\n",
    "import numpy as np\n",
    "from sklearn import neighbors\n",
    "\n",
    "\n",
    "x = board_games[[\"average_weight\",\"player_range\",\"total_wanters\"]] # The features would be all the variables except the cluster class\n",
    "y = board_games[\"cluster\"] # The cluster is the target value\n",
    "\n",
    "X_train, X_test, y_train, y_test = cross_validation.train_test_split(x,y,test_size=0.2)\n",
    "\n",
    "clf = neighbors.KNeighborsClassifier()\n",
    "clf.fit(X_train, y_train)\n",
    "\n",
    "accuracy = clf.score(X_test, y_test)\n",
    "print(accuracy)\n"
   ]
  },
  {
   "cell_type": "markdown",
   "metadata": {
    "collapsed": true
   },
   "source": [
    "The accuracy of the model show that 97,6% of the times the model predict the correct cluster that a new game will have. Knowing the cluster of the game, we can have an idea about the average rating of it. With this approach we will have an awareness of the possible value of the average rating for the game. "
   ]
  }
 ],
 "metadata": {
  "anaconda-cloud": {},
  "kernelspec": {
   "display_name": "Python [default]",
   "language": "python",
   "name": "python3"
  },
  "language_info": {
   "codemirror_mode": {
    "name": "ipython",
    "version": 3
   },
   "file_extension": ".py",
   "mimetype": "text/x-python",
   "name": "python",
   "nbconvert_exporter": "python",
   "pygments_lexer": "ipython3",
   "version": "3.5.2"
  }
 },
 "nbformat": 4,
 "nbformat_minor": 0
}
