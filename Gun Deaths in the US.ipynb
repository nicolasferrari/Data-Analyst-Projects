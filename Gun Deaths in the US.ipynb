{
 "cells": [
  {
   "cell_type": "code",
   "execution_count": 1,
   "metadata": {
    "collapsed": false
   },
   "outputs": [
    {
     "data": {
      "text/plain": [
       "[['',\n",
       "  'year',\n",
       "  'month',\n",
       "  'intent',\n",
       "  'police',\n",
       "  'sex',\n",
       "  'age',\n",
       "  'race',\n",
       "  'hispanic',\n",
       "  'place',\n",
       "  'education'],\n",
       " ['1',\n",
       "  '2012',\n",
       "  '01',\n",
       "  'Suicide',\n",
       "  '0',\n",
       "  'M',\n",
       "  '34',\n",
       "  'Asian/Pacific Islander',\n",
       "  '100',\n",
       "  'Home',\n",
       "  '4'],\n",
       " ['2', '2012', '01', 'Suicide', '0', 'F', '21', 'White', '100', 'Street', '3'],\n",
       " ['3',\n",
       "  '2012',\n",
       "  '01',\n",
       "  'Suicide',\n",
       "  '0',\n",
       "  'M',\n",
       "  '60',\n",
       "  'White',\n",
       "  '100',\n",
       "  'Other specified',\n",
       "  '4'],\n",
       " ['4', '2012', '02', 'Suicide', '0', 'M', '64', 'White', '100', 'Home', '4']]"
      ]
     },
     "execution_count": 1,
     "metadata": {},
     "output_type": "execute_result"
    }
   ],
   "source": [
    "import csv\n",
    "f = open('guns.csv')\n",
    "csvreader = csv.reader(f)\n",
    "data = list(csvreader)\n",
    "# Display the 5 first rows of the data list\n",
    "data[0:5]\n"
   ]
  },
  {
   "cell_type": "code",
   "execution_count": 2,
   "metadata": {
    "collapsed": false
   },
   "outputs": [
    {
     "data": {
      "text/plain": [
       "[['1',\n",
       "  '2012',\n",
       "  '01',\n",
       "  'Suicide',\n",
       "  '0',\n",
       "  'M',\n",
       "  '34',\n",
       "  'Asian/Pacific Islander',\n",
       "  '100',\n",
       "  'Home',\n",
       "  '4'],\n",
       " ['2', '2012', '01', 'Suicide', '0', 'F', '21', 'White', '100', 'Street', '3'],\n",
       " ['3',\n",
       "  '2012',\n",
       "  '01',\n",
       "  'Suicide',\n",
       "  '0',\n",
       "  'M',\n",
       "  '60',\n",
       "  'White',\n",
       "  '100',\n",
       "  'Other specified',\n",
       "  '4'],\n",
       " ['4', '2012', '02', 'Suicide', '0', 'M', '64', 'White', '100', 'Home', '4'],\n",
       " ['5',\n",
       "  '2012',\n",
       "  '02',\n",
       "  'Suicide',\n",
       "  '0',\n",
       "  'M',\n",
       "  '31',\n",
       "  'White',\n",
       "  '100',\n",
       "  'Other specified',\n",
       "  '2']]"
      ]
     },
     "execution_count": 2,
     "metadata": {},
     "output_type": "execute_result"
    }
   ],
   "source": [
    "# Remove headers from the data list(list of lists)\n",
    "headers = data[0]\n",
    "data.remove(headers)\n",
    "headers\n",
    "# Display the first 5 rows of data to verify that the headers were removed\n",
    "data[0:5]"
   ]
  },
  {
   "cell_type": "code",
   "execution_count": 13,
   "metadata": {
    "collapsed": false
   },
   "outputs": [
    {
     "data": {
      "text/plain": [
       "{'2012': 33562, '2013': 33635, '2014': 33598}"
      ]
     },
     "execution_count": 13,
     "metadata": {},
     "output_type": "execute_result"
    }
   ],
   "source": [
    "# Counting gun deaths by year. First, use list comprehension to extract the year column from data\n",
    "# Secondly, create an empty dictionary and loop through each element in years\n",
    "years = [item[1] for item in data]\n",
    "year_counts = {}\n",
    "for year in years:\n",
    "    if year not in year_counts:\n",
    "        year_counts[year] = 0\n",
    "    else:\n",
    "        year_counts[year] += 1\n",
    "year_counts"
   ]
  },
  {
   "cell_type": "code",
   "execution_count": 4,
   "metadata": {
    "collapsed": false
   },
   "outputs": [
    {
     "data": {
      "text/plain": [
       "{datetime.datetime(2012, 1, 1, 0, 0): 2757,\n",
       " datetime.datetime(2012, 2, 1, 0, 0): 2356,\n",
       " datetime.datetime(2012, 3, 1, 0, 0): 2742,\n",
       " datetime.datetime(2012, 4, 1, 0, 0): 2794,\n",
       " datetime.datetime(2012, 5, 1, 0, 0): 2998,\n",
       " datetime.datetime(2012, 6, 1, 0, 0): 2825,\n",
       " datetime.datetime(2012, 7, 1, 0, 0): 3025,\n",
       " datetime.datetime(2012, 8, 1, 0, 0): 2953,\n",
       " datetime.datetime(2012, 9, 1, 0, 0): 2851,\n",
       " datetime.datetime(2012, 10, 1, 0, 0): 2732,\n",
       " datetime.datetime(2012, 11, 1, 0, 0): 2728,\n",
       " datetime.datetime(2012, 12, 1, 0, 0): 2790,\n",
       " datetime.datetime(2013, 1, 1, 0, 0): 2863,\n",
       " datetime.datetime(2013, 2, 1, 0, 0): 2374,\n",
       " datetime.datetime(2013, 3, 1, 0, 0): 2861,\n",
       " datetime.datetime(2013, 4, 1, 0, 0): 2797,\n",
       " datetime.datetime(2013, 5, 1, 0, 0): 2805,\n",
       " datetime.datetime(2013, 6, 1, 0, 0): 2919,\n",
       " datetime.datetime(2013, 7, 1, 0, 0): 3078,\n",
       " datetime.datetime(2013, 8, 1, 0, 0): 2858,\n",
       " datetime.datetime(2013, 9, 1, 0, 0): 2741,\n",
       " datetime.datetime(2013, 10, 1, 0, 0): 2807,\n",
       " datetime.datetime(2013, 11, 1, 0, 0): 2757,\n",
       " datetime.datetime(2013, 12, 1, 0, 0): 2764,\n",
       " datetime.datetime(2014, 1, 1, 0, 0): 2650,\n",
       " datetime.datetime(2014, 2, 1, 0, 0): 2360,\n",
       " datetime.datetime(2014, 3, 1, 0, 0): 2683,\n",
       " datetime.datetime(2014, 4, 1, 0, 0): 2861,\n",
       " datetime.datetime(2014, 5, 1, 0, 0): 2863,\n",
       " datetime.datetime(2014, 6, 1, 0, 0): 2930,\n",
       " datetime.datetime(2014, 7, 1, 0, 0): 2883,\n",
       " datetime.datetime(2014, 8, 1, 0, 0): 2969,\n",
       " datetime.datetime(2014, 9, 1, 0, 0): 2913,\n",
       " datetime.datetime(2014, 10, 1, 0, 0): 2864,\n",
       " datetime.datetime(2014, 11, 1, 0, 0): 2755,\n",
       " datetime.datetime(2014, 12, 1, 0, 0): 2856}"
      ]
     },
     "execution_count": 4,
     "metadata": {},
     "output_type": "execute_result"
    }
   ],
   "source": [
    "# In this step, I will analyze the guns death by months and years. For this purpose,\n",
    "# is necessary to create a datetime.datetime object for each row. I use list comprehension to create a datetime.datetime object with the year and the month(day fixed)\n",
    "import datetime\n",
    "dates = [datetime.datetime(year=int(item[1]), month = int(item[2]), day=1) for item in data]\n",
    "# Display the first 5 rows in dates \n",
    "dates[0:5]\n",
    "\n",
    "# Create a dictionary with the datetime.datetime(year,month,fixed day) as a key and the number of deaths in each month as the value\n",
    "date_counts = {}\n",
    "for date in dates:\n",
    "    if date not in date_counts:\n",
    "        date_counts[date] = 0\n",
    "    else:\n",
    "        date_counts[date] += 1\n",
    "date_counts"
   ]
  },
  {
   "cell_type": "code",
   "execution_count": 15,
   "metadata": {
    "collapsed": false
   },
   "outputs": [
    {
     "name": "stdout",
     "output_type": "stream",
     "text": [
      "{'F': 14448, 'M': 86348}\n",
      "{'Asian/Pacific Islander': 1325, 'Native American/Native Alaskan': 916, 'Black': 23295, 'White': 66236, 'Hispanic': 9021}\n"
     ]
    }
   ],
   "source": [
    "# In this step, I will explore gun deaths by race and sex\n",
    "# First, I create a dictionary to count the deaths gun by gender\n",
    "gender = [item[5] for item in data]\n",
    "sex_counts = {}\n",
    "for item in gender:\n",
    "    if item not in sex_counts:\n",
    "        sex_counts[item] = 0\n",
    "    else:\n",
    "        sex_counts[item] += 1\n",
    "\n",
    "# Secondly, create a dictionary to count the deaths by race\n",
    "races = [item[7] for item in data]\n",
    "race_counts = {}\n",
    "for item in races:\n",
    "    if item not in race_counts:\n",
    "        race_counts[item] = 0\n",
    "    else:\n",
    "        race_counts[item] += 1\n",
    "print(sex_counts)\n",
    "print(race_counts)"
   ]
  },
  {
   "cell_type": "markdown",
   "metadata": {},
   "source": [
    "The result yields interesting conclusion. In the first hand, there are almost 6 times more deaths in males than females. \n",
    "\n",
    "Secondly, among the race of the deaths, the white people are the most killed, with a number of deaths of 66237 between 2012 to 2014. This number is almost three times higher than the black deaths that are 23296. \n",
    "\n",
    "I consider that it will be intereting to examinate the age of the people killed from the males population. The male population who deaths in these years, represents more than 85 % of the sample. \n",
    "\n",
    "Also is important to analyze the race deaths, in releative terms. This imply to take into account the proportion of deaths of each reace in terms of the total population of each race in the US.\n",
    "\n"
   ]
  },
  {
   "cell_type": "code",
   "execution_count": 6,
   "metadata": {
    "collapsed": false
   },
   "outputs": [
    {
     "data": {
      "text/plain": [
       "[['Id',\n",
       "  'Year',\n",
       "  'Id',\n",
       "  'Sex',\n",
       "  'Id',\n",
       "  'Hispanic Origin',\n",
       "  'Id',\n",
       "  'Id2',\n",
       "  'Geography',\n",
       "  'Total',\n",
       "  'Race Alone - White',\n",
       "  'Race Alone - Hispanic',\n",
       "  'Race Alone - Black or African American',\n",
       "  'Race Alone - American Indian and Alaska Native',\n",
       "  'Race Alone - Asian',\n",
       "  'Race Alone - Native Hawaiian and Other Pacific Islander',\n",
       "  'Two or More Races'],\n",
       " ['cen42010',\n",
       "  'April 1, 2010 Census',\n",
       "  'totsex',\n",
       "  'Both Sexes',\n",
       "  'tothisp',\n",
       "  'Total',\n",
       "  '0100000US',\n",
       "  '',\n",
       "  'United States',\n",
       "  '308745538',\n",
       "  '197318956',\n",
       "  '44618105',\n",
       "  '40250635',\n",
       "  '3739506',\n",
       "  '15159516',\n",
       "  '674625',\n",
       "  '6984195']]"
      ]
     },
     "execution_count": 6,
     "metadata": {},
     "output_type": "execute_result"
    }
   ],
   "source": [
    "# In order to know the rate of gun deaths per 100000 people of each race, it's necessary to read the Census Database to know what percentage of the US population falls into each racial category.\n",
    "# I will use the census population dataset, that contain information about the population of each race in the United States.\n",
    "f = open('census.csv')\n",
    "csvreader = csv.reader(f)\n",
    "census = list(csvreader)\n",
    "census"
   ]
  },
  {
   "cell_type": "code",
   "execution_count": 14,
   "metadata": {
    "collapsed": false
   },
   "outputs": [
    {
     "data": {
      "text/plain": [
       "{'Asian/Pacific Islander': 8.36799419684339,\n",
       " 'Black': 57.87486334066531,\n",
       " 'Hispanic': 20.2182499682584,\n",
       " 'Native American/Native Alaskan': 24.49521407373059,\n",
       " 'White': 33.567986240511026}"
      ]
     },
     "execution_count": 14,
     "metadata": {},
     "output_type": "execute_result"
    }
   ],
   "source": [
    "# Combine the two datasets to calculate the rate of deaths among each racial category. The issue in this point is that the racial categories are named\n",
    "# differently in census respect to the data list. It will be necessary to construct a dictionary to map between them and perform the division, to get the rate of gun deaths for each racial category.\n",
    "mapping = {'Asian/Pacific Islander': 15834141, 'Black': 40250635, 'Hispanic': 44618105, 'Native American/Native Alaskan': 3739506, 'White': 197318956}\n",
    "\n",
    "# Divide the number of deaths for each race, to the population of each race in the US and multiply by 100000.\n",
    "race_per_hundredk = {}\n",
    "for key in race_counts:\n",
    "    race_per_hundredk[key] = race_counts[key]/mapping[key] * 100000\n",
    "race_per_hundredk"
   ]
  },
  {
   "cell_type": "markdown",
   "metadata": {},
   "source": [
    "These conclusion, contrast to the figures that only take the numbers of gun deaths in each race without taking into account  the population of each race. In relative terms, Black people has the most rate of gun deaths with 58 out of every 100000 people in the Black census category in the US between 2012 and 2014."
   ]
  },
  {
   "cell_type": "code",
   "execution_count": 8,
   "metadata": {
    "collapsed": false
   },
   "outputs": [
    {
     "name": "stdout",
     "output_type": "stream",
     "text": [
      "{'Asian/Pacific Islander': 559, 'Native American/Native Alaskan': 326, 'Black': 19510, 'White': 9147, 'Hispanic': 5634}\n",
      "{'Asian/Pacific Islander': 3.530346230970155, 'Native American/Native Alaskan': 8.717729026240365, 'Black': 48.471284987180944, 'White': 4.6356417981453335, 'Hispanic': 12.627161104219914}\n"
     ]
    }
   ],
   "source": [
    "# In this step, I will perform the same analysis of the last cell, but only count rows where the intent was Homicide \n",
    "# First extract the intent and races column using list comprehension\n",
    "intents = [item[3] for item in data]\n",
    "\n",
    "# Extract the races column using list comprehension\n",
    "races = [item[7] for item in data]\n",
    "\n",
    "# Using enumerate function, to loop over the races column and count the number of Homicide for each race.\n",
    "homicide_race_counts = {}\n",
    "for i, race in enumerate(races):\n",
    "    if race not in homicide_race_counts:\n",
    "        homicide_race_counts[race] = 0\n",
    "    if intents[i] == 'Homicide':\n",
    "        homicide_race_counts[race] += 1    \n",
    "              \n",
    "print(homicide_race_counts)\n",
    "\n",
    "# Create a dictionary to find the rate of Homicide by the population of each race \n",
    "homicide_race_per_hundredk = {}\n",
    "for key in homicide_race_counts:\n",
    "    homicide_race_per_hundredk[key] = homicide_race_counts[key] /  mapping[key] * 100000\n",
    "print(homicide_race_per_hundredk)    \n",
    "\n",
    "                "
   ]
  },
  {
   "cell_type": "markdown",
   "metadata": {
    "collapsed": true
   },
   "source": [
    "The results shows that black people has the most rate of Homicide in terms of the population. This figure depict that 48 out of every 100000  people in the Black census race category in the US were killed by Homicide between 2012 to 2014.\n",
    "\n",
    "On the other hand, Asian/Pacific Islander race is the less killed by Homicide. The White race also have a less rate of people killed by Homicide with 5 out of ecery 100000 people in the White census race category in the US were killed by guns between 2012 and 2014. \n",
    "\n",
    "It's seems that white people die by other causes instead of homicide, such as accidental causes or suicide. I will explore this in next steps."
   ]
  },
  {
   "cell_type": "code",
   "execution_count": 19,
   "metadata": {
    "collapsed": false
   },
   "outputs": [
    {
     "name": "stdout",
     "output_type": "stream",
     "text": [
      "{'04': 2845, '06': 3130, '05': 2976, '03': 2780, '08': 3125, '09': 2966, '01': 2829, '12': 3191, '10': 2968, '07': 3269, '02': 2178, '11': 2919}\n",
      "{'04': 100.566, '08': 110.463, '05': 105.196, '02': 76.988, '06': 110.64, '09': 104.843, '01': 100.0, '12': 112.796, '10': 104.913, '07': 115.553, '03': 98.268, '11': 103.181}\n"
     ]
    }
   ],
   "source": [
    "# Examine if there are any link between month and homicide rate\n",
    "import operator \n",
    "months = [item[2] for item in data]\n",
    "intents = [item[3] for item in data]\n",
    "\n",
    "homicide_by_month = {}\n",
    "\n",
    "for i,month in enumerate(months):\n",
    "    if month not in homicide_by_month:\n",
    "        homicide_by_month[month] = 0\n",
    "    if intents[i] == 'Homicide':\n",
    "        homicide_by_month[month] += 1\n",
    "print(homicide_by_month)\n",
    "\n",
    "# I construct a dictionary(map_division) to map with the homicide_by_month dictionary and generate a homicide index in each month. The index has base 100 and start in month 01.\n",
    "# The dictionary homicide_by_month_rate has a key of each month and the value is an Index on base 100, that reflect the increment of homicide respect the month base which is 01.\n",
    "map_division = {'01': 2829, '09': 2829, '12': 2829, '04': 2829, '02': 2829 ,'11': 2829, '10': 2829, '08': 2829 , '05': 2829 ,'03': 2829 ,'06': 2829, '07': 2829}\n",
    "\n",
    "index_homicide_by_month = {}\n",
    "for k in homicide_by_month:\n",
    "    if k not in index_homicide_by_month:\n",
    "        index_homicide_by_month[k] = round((homicide_by_month[k]/ map_division[k]) * 100,3)\n",
    "    if homicide_by_month.keys == homicide_by_month_rate.keys:\n",
    "        index_homicide_by_month[k] = round((homicide_by_month[k]/ map_division[k]) * 100,3)\n",
    "print(index_homicide_by_month)"
   ]
  },
  {
   "cell_type": "markdown",
   "metadata": {},
   "source": [
    "The results show that in the first half of the year, the rate of homicide measured by the index_homicide is less respect to the second part of the year. The month in which the rate of homicide has the highest index is July followed by December. "
   ]
  },
  {
   "cell_type": "code",
   "execution_count": 10,
   "metadata": {
    "collapsed": false
   },
   "outputs": [
    {
     "name": "stdout",
     "output_type": "stream",
     "text": [
      "{'F': 5373, 'M': 29803}\n"
     ]
    },
    {
     "data": {
      "text/plain": [
       "{'F': 3.412290396823462, 'M': 19.61238160849918}"
      ]
     },
     "execution_count": 10,
     "metadata": {},
     "output_type": "execute_result"
    }
   ],
   "source": [
    "# In this step, I analyze the relationship between the homicide rate by gender\n",
    "gender = [item[5] for item in data]\n",
    "gender_homicide = {}\n",
    "for i, sex in enumerate(gender):\n",
    "    if sex not in gender_homicide:\n",
    "        gender_homicide[sex] = 0\n",
    "    if intents[i] == 'Homicide':\n",
    "        gender_homicide[sex] += 1\n",
    "print(gender_homicide)\n",
    "\n",
    "# Create a dictionary to obtain the population by gender. The information provided by the 2010 Census, yield that the 49% of the population are men and the 51% are woman.\n",
    "# With this information, I can divide the homicide be gender to the population of each gender and get a rate of homicide by gender\n",
    "population= {'M': 151960127 , 'F': 157460221}\n",
    "gender_homicide_rate = {}\n",
    "for key in gender_homicide:\n",
    "    gender_homicide_rate[key] = (gender_homicide[key]/population[key]) * 100000\n",
    "gender_homicide_rate"
   ]
  },
  {
   "cell_type": "markdown",
   "metadata": {
    "collapsed": true
   },
   "source": [
    "The result show that 20 out of 100000 men have death by homicide between 2012 to 2014. This figure is significantly smaller for woman, with only 3 woman out of 100000 was death by homicide between 2012 to 2014. "
   ]
  },
  {
   "cell_type": "code",
   "execution_count": 11,
   "metadata": {
    "collapsed": false
   },
   "outputs": [
    {
     "data": {
      "text/plain": [
       "{'1': 21822, '2': 42926, '3': 21679, '4': 12945, '5': 1368, 'NA': 52}"
      ]
     },
     "execution_count": 11,
     "metadata": {},
     "output_type": "execute_result"
    }
   ],
   "source": [
    "# In this step I try fo find out if there are correlations between gun death rates and location or education\n",
    "# At first time, I construct a diccionary to show up if the education of the victimis has any correlation with the numbers of death\n",
    "education = [item[10] for item in data]\n",
    "\n",
    "gun_death_by_education = {}\n",
    "for item in education:\n",
    "    if item not in gun_death_by_education:\n",
    "        gun_death_by_education[item] = 0\n",
    "    else:\n",
    "        gun_death_by_education[item] += 1\n",
    "gun_death_by_education"
   ]
  },
  {
   "cell_type": "markdown",
   "metadata": {},
   "source": [
    "The result show that the highest death fall in the category 2 of education which is 'Graduated from High School or equivalent'. \n",
    "It seems to be that people that go the University or finish it, have less number of death respect to people that went to High School but didn't finish or are graduated from High School."
   ]
  },
  {
   "cell_type": "code",
   "execution_count": 12,
   "metadata": {
    "collapsed": false
   },
   "outputs": [
    {
     "data": {
      "text/plain": [
       "{'Farm': 469,\n",
       " 'Home': 60485,\n",
       " 'Industrial/construction': 247,\n",
       " 'NA': 1383,\n",
       " 'Other specified': 13750,\n",
       " 'Other unspecified': 8866,\n",
       " 'Residential institution': 202,\n",
       " 'School/instiution': 670,\n",
       " 'Sports': 127,\n",
       " 'Street': 11150,\n",
       " 'Trade/service area': 3438}"
      ]
     },
     "execution_count": 12,
     "metadata": {},
     "output_type": "execute_result"
    }
   ],
   "source": [
    "# Next, I observe if there are correlations between location and death rates\n",
    "# The methodology will be the same that before. First, extract the location item from data, and then loop over the location item to make a dictionary where the keys\n",
    "# are the location and the values the number of death in each location.\n",
    "location = [item[9] for item in data]\n",
    "death_by_location = {}\n",
    "for item in location:\n",
    "    if item not in death_by_location:\n",
    "        death_by_location[item] = 0\n",
    "    else:\n",
    "        death_by_location[item] += 1\n",
    "death_by_location"
   ]
  },
  {
   "cell_type": "markdown",
   "metadata": {},
   "source": [
    "The conclusion of the results are that, the highest number of death take place in Home with 60485. This number is really high respect the follwing place, that is Street with 11150 deaths. \n",
    "\n",
    "The location with the lowest number of deaths between 2012 to 2014 is Sports with 127 deaths . "
   ]
  },
  {
   "cell_type": "code",
   "execution_count": 24,
   "metadata": {
    "collapsed": false
   },
   "outputs": [
    {
     "name": "stdout",
     "output_type": "stream",
     "text": [
      "{'Asian/Pacific Islander': 745, 'Native American/Native Alaskan': 555, 'Black': 3332, 'White': 55372, 'Hispanic': 3171}\n",
      "{'Asian/Pacific Islander': 4.705023152187416, 'Native American/Native Alaskan': 14.841532544673013, 'Black': 8.278130270491385, 'White': 28.06217969245692, 'Hispanic': 7.106980451097149}\n"
     ]
    }
   ],
   "source": [
    "# Finally I will analyze the Suicide cause of death and find out the relationship between Suicide causes of death and race.\n",
    "\n",
    "intents = [item[3] for item in data]\n",
    "\n",
    "# Extract the races column using list comprehension\n",
    "races = [item[7] for item in data]\n",
    "\n",
    "# Using enumerate function, to loop over the races column and count the number of Suicide for each race.\n",
    "suicide_race_counts = {}\n",
    "for i, race in enumerate(races):\n",
    "    if race not in suicide_race_counts:\n",
    "        suicide_race_counts[race] = 0\n",
    "    if intents[i] == 'Suicide':\n",
    "        suicide_race_counts[race] += 1    \n",
    "              \n",
    "print(suicide_race_counts)\n",
    "\n",
    "# Create a dictionary to find the rate of Suicide by the population of each race \n",
    "suicide_race_per_hundredk = {}\n",
    "for key in suicide_race_counts:\n",
    "    suicide_race_per_hundredk[key] = suicide_race_counts[key] /  mapping[key] * 100000\n",
    "print(suicide_race_per_hundredk) "
   ]
  },
  {
   "cell_type": "markdown",
   "metadata": {},
   "source": [
    "The results show that white people is the category with the highest rate of suicide as a cuase of die. The second race with the most rate of suicide death is Native American/Native Alaskan race. \n",
    "\n",
    "Black people has a low rate with only 8 out of every 100000 black people were death by suicide between 2012 and 2014. Such as the results of homicide rate show, for black people the main cause of die is homicide. "
   ]
  }
 ],
 "metadata": {
  "kernelspec": {
   "display_name": "Python 3",
   "language": "python",
   "name": "python3"
  },
  "language_info": {
   "codemirror_mode": {
    "name": "ipython",
    "version": 3
   },
   "file_extension": ".py",
   "mimetype": "text/x-python",
   "name": "python",
   "nbconvert_exporter": "python",
   "pygments_lexer": "ipython3",
   "version": "3.4.3"
  }
 },
 "nbformat": 4,
 "nbformat_minor": 0
}
